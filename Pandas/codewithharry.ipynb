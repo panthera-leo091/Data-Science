{
 "cells": [
  {
   "cell_type": "code",
   "execution_count": 2,
   "metadata": {},
   "outputs": [],
   "source": [
    "import numpy as np\n",
    "import pandas as pd"
   ]
  },
  {
   "cell_type": "code",
   "execution_count": 4,
   "metadata": {},
   "outputs": [],
   "source": [
    "data = [\n",
    "    [1, \"Avanish\", 22, \"2003/12/25\"],\n",
    "    [2, \"Ashish\", 22, \"2002/11/01\"],\n",
    "    [3, \"Ayush\", 22, \"2001/09/25\"],\n",
    "    [4, \"Akanksha\", 22, \"2001/09/25\"],\n",
    "    [5, \"Sanjay\", 22, \"1999/10/207\"]\n",
    "]"
   ]
  },
  {
   "cell_type": "code",
   "execution_count": 6,
   "metadata": {},
   "outputs": [],
   "source": [
    "df = pd.DataFrame(data, columns = [\"id\", \"name\", \"age\", \"DOB\"])"
   ]
  },
  {
   "cell_type": "code",
   "execution_count": 7,
   "metadata": {},
   "outputs": [
    {
     "data": {
      "text/html": [
       "<div>\n",
       "<style scoped>\n",
       "    .dataframe tbody tr th:only-of-type {\n",
       "        vertical-align: middle;\n",
       "    }\n",
       "\n",
       "    .dataframe tbody tr th {\n",
       "        vertical-align: top;\n",
       "    }\n",
       "\n",
       "    .dataframe thead th {\n",
       "        text-align: right;\n",
       "    }\n",
       "</style>\n",
       "<table border=\"1\" class=\"dataframe\">\n",
       "  <thead>\n",
       "    <tr style=\"text-align: right;\">\n",
       "      <th></th>\n",
       "      <th>id</th>\n",
       "      <th>name</th>\n",
       "      <th>age</th>\n",
       "      <th>DOB</th>\n",
       "    </tr>\n",
       "  </thead>\n",
       "  <tbody>\n",
       "    <tr>\n",
       "      <th>0</th>\n",
       "      <td>1</td>\n",
       "      <td>Avanish</td>\n",
       "      <td>22</td>\n",
       "      <td>2003/12/25</td>\n",
       "    </tr>\n",
       "    <tr>\n",
       "      <th>1</th>\n",
       "      <td>2</td>\n",
       "      <td>Ashish</td>\n",
       "      <td>22</td>\n",
       "      <td>2002/11/01</td>\n",
       "    </tr>\n",
       "    <tr>\n",
       "      <th>2</th>\n",
       "      <td>3</td>\n",
       "      <td>Ayush</td>\n",
       "      <td>22</td>\n",
       "      <td>2001/09/25</td>\n",
       "    </tr>\n",
       "    <tr>\n",
       "      <th>3</th>\n",
       "      <td>4</td>\n",
       "      <td>Akanksha</td>\n",
       "      <td>22</td>\n",
       "      <td>2001/09/25</td>\n",
       "    </tr>\n",
       "    <tr>\n",
       "      <th>4</th>\n",
       "      <td>5</td>\n",
       "      <td>Sanjay</td>\n",
       "      <td>22</td>\n",
       "      <td>1999/10/207</td>\n",
       "    </tr>\n",
       "  </tbody>\n",
       "</table>\n",
       "</div>"
      ],
      "text/plain": [
       "   id      name  age          DOB\n",
       "0   1   Avanish   22   2003/12/25\n",
       "1   2    Ashish   22   2002/11/01\n",
       "2   3     Ayush   22   2001/09/25\n",
       "3   4  Akanksha   22   2001/09/25\n",
       "4   5    Sanjay   22  1999/10/207"
      ]
     },
     "execution_count": 7,
     "metadata": {},
     "output_type": "execute_result"
    }
   ],
   "source": [
    "df"
   ]
  },
  {
   "cell_type": "code",
   "execution_count": 12,
   "metadata": {},
   "outputs": [],
   "source": [
    "df.set_index(df[\"id\"], inplace=True)"
   ]
  },
  {
   "cell_type": "code",
   "execution_count": 13,
   "metadata": {},
   "outputs": [
    {
     "data": {
      "text/html": [
       "<div>\n",
       "<style scoped>\n",
       "    .dataframe tbody tr th:only-of-type {\n",
       "        vertical-align: middle;\n",
       "    }\n",
       "\n",
       "    .dataframe tbody tr th {\n",
       "        vertical-align: top;\n",
       "    }\n",
       "\n",
       "    .dataframe thead th {\n",
       "        text-align: right;\n",
       "    }\n",
       "</style>\n",
       "<table border=\"1\" class=\"dataframe\">\n",
       "  <thead>\n",
       "    <tr style=\"text-align: right;\">\n",
       "      <th></th>\n",
       "      <th>id</th>\n",
       "      <th>name</th>\n",
       "      <th>age</th>\n",
       "      <th>DOB</th>\n",
       "    </tr>\n",
       "    <tr>\n",
       "      <th>id</th>\n",
       "      <th></th>\n",
       "      <th></th>\n",
       "      <th></th>\n",
       "      <th></th>\n",
       "    </tr>\n",
       "  </thead>\n",
       "  <tbody>\n",
       "    <tr>\n",
       "      <th>1</th>\n",
       "      <td>1</td>\n",
       "      <td>Avanish</td>\n",
       "      <td>22</td>\n",
       "      <td>2003/12/25</td>\n",
       "    </tr>\n",
       "    <tr>\n",
       "      <th>2</th>\n",
       "      <td>2</td>\n",
       "      <td>Ashish</td>\n",
       "      <td>22</td>\n",
       "      <td>2002/11/01</td>\n",
       "    </tr>\n",
       "    <tr>\n",
       "      <th>3</th>\n",
       "      <td>3</td>\n",
       "      <td>Ayush</td>\n",
       "      <td>22</td>\n",
       "      <td>2001/09/25</td>\n",
       "    </tr>\n",
       "    <tr>\n",
       "      <th>4</th>\n",
       "      <td>4</td>\n",
       "      <td>Akanksha</td>\n",
       "      <td>22</td>\n",
       "      <td>2001/09/25</td>\n",
       "    </tr>\n",
       "    <tr>\n",
       "      <th>5</th>\n",
       "      <td>5</td>\n",
       "      <td>Sanjay</td>\n",
       "      <td>22</td>\n",
       "      <td>1999/10/207</td>\n",
       "    </tr>\n",
       "  </tbody>\n",
       "</table>\n",
       "</div>"
      ],
      "text/plain": [
       "    id      name  age          DOB\n",
       "id                                \n",
       "1    1   Avanish   22   2003/12/25\n",
       "2    2    Ashish   22   2002/11/01\n",
       "3    3     Ayush   22   2001/09/25\n",
       "4    4  Akanksha   22   2001/09/25\n",
       "5    5    Sanjay   22  1999/10/207"
      ]
     },
     "execution_count": 13,
     "metadata": {},
     "output_type": "execute_result"
    }
   ],
   "source": [
    "df"
   ]
  },
  {
   "cell_type": "code",
   "execution_count": 14,
   "metadata": {},
   "outputs": [],
   "source": [
    "data1 = {\n",
    "    \"Id\": [1, 2, 3, 4, 5],\n",
    "    \"Name\": [\"Avanish\", \"Ashish\", \"Ayush\", \"Akanksha\", \"Sanjay\"],\n",
    "    \"Age\": [22, 22, 22, 22, 25]\n",
    "}"
   ]
  },
  {
   "cell_type": "code",
   "execution_count": 15,
   "metadata": {},
   "outputs": [],
   "source": [
    "df1 = pd.DataFrame(data1)"
   ]
  },
  {
   "cell_type": "code",
   "execution_count": 16,
   "metadata": {},
   "outputs": [
    {
     "data": {
      "text/html": [
       "<div>\n",
       "<style scoped>\n",
       "    .dataframe tbody tr th:only-of-type {\n",
       "        vertical-align: middle;\n",
       "    }\n",
       "\n",
       "    .dataframe tbody tr th {\n",
       "        vertical-align: top;\n",
       "    }\n",
       "\n",
       "    .dataframe thead th {\n",
       "        text-align: right;\n",
       "    }\n",
       "</style>\n",
       "<table border=\"1\" class=\"dataframe\">\n",
       "  <thead>\n",
       "    <tr style=\"text-align: right;\">\n",
       "      <th></th>\n",
       "      <th>Id</th>\n",
       "      <th>Name</th>\n",
       "      <th>Age</th>\n",
       "    </tr>\n",
       "  </thead>\n",
       "  <tbody>\n",
       "    <tr>\n",
       "      <th>0</th>\n",
       "      <td>1</td>\n",
       "      <td>Avanish</td>\n",
       "      <td>22</td>\n",
       "    </tr>\n",
       "    <tr>\n",
       "      <th>1</th>\n",
       "      <td>2</td>\n",
       "      <td>Ashish</td>\n",
       "      <td>22</td>\n",
       "    </tr>\n",
       "    <tr>\n",
       "      <th>2</th>\n",
       "      <td>3</td>\n",
       "      <td>Ayush</td>\n",
       "      <td>22</td>\n",
       "    </tr>\n",
       "    <tr>\n",
       "      <th>3</th>\n",
       "      <td>4</td>\n",
       "      <td>Akanksha</td>\n",
       "      <td>22</td>\n",
       "    </tr>\n",
       "    <tr>\n",
       "      <th>4</th>\n",
       "      <td>5</td>\n",
       "      <td>Sanjay</td>\n",
       "      <td>25</td>\n",
       "    </tr>\n",
       "  </tbody>\n",
       "</table>\n",
       "</div>"
      ],
      "text/plain": [
       "   Id      Name  Age\n",
       "0   1   Avanish   22\n",
       "1   2    Ashish   22\n",
       "2   3     Ayush   22\n",
       "3   4  Akanksha   22\n",
       "4   5    Sanjay   25"
      ]
     },
     "execution_count": 16,
     "metadata": {},
     "output_type": "execute_result"
    }
   ],
   "source": [
    "df1"
   ]
  },
  {
   "cell_type": "code",
   "execution_count": 17,
   "metadata": {},
   "outputs": [
    {
     "data": {
      "text/html": [
       "<div>\n",
       "<style scoped>\n",
       "    .dataframe tbody tr th:only-of-type {\n",
       "        vertical-align: middle;\n",
       "    }\n",
       "\n",
       "    .dataframe tbody tr th {\n",
       "        vertical-align: top;\n",
       "    }\n",
       "\n",
       "    .dataframe thead th {\n",
       "        text-align: right;\n",
       "    }\n",
       "</style>\n",
       "<table border=\"1\" class=\"dataframe\">\n",
       "  <thead>\n",
       "    <tr style=\"text-align: right;\">\n",
       "      <th></th>\n",
       "      <th>Name</th>\n",
       "      <th>Age</th>\n",
       "    </tr>\n",
       "    <tr>\n",
       "      <th>Id</th>\n",
       "      <th></th>\n",
       "      <th></th>\n",
       "    </tr>\n",
       "  </thead>\n",
       "  <tbody>\n",
       "    <tr>\n",
       "      <th>1</th>\n",
       "      <td>Avanish</td>\n",
       "      <td>22</td>\n",
       "    </tr>\n",
       "    <tr>\n",
       "      <th>2</th>\n",
       "      <td>Ashish</td>\n",
       "      <td>22</td>\n",
       "    </tr>\n",
       "    <tr>\n",
       "      <th>3</th>\n",
       "      <td>Ayush</td>\n",
       "      <td>22</td>\n",
       "    </tr>\n",
       "    <tr>\n",
       "      <th>4</th>\n",
       "      <td>Akanksha</td>\n",
       "      <td>22</td>\n",
       "    </tr>\n",
       "    <tr>\n",
       "      <th>5</th>\n",
       "      <td>Sanjay</td>\n",
       "      <td>25</td>\n",
       "    </tr>\n",
       "  </tbody>\n",
       "</table>\n",
       "</div>"
      ],
      "text/plain": [
       "        Name  Age\n",
       "Id               \n",
       "1    Avanish   22\n",
       "2     Ashish   22\n",
       "3      Ayush   22\n",
       "4   Akanksha   22\n",
       "5     Sanjay   25"
      ]
     },
     "execution_count": 17,
     "metadata": {},
     "output_type": "execute_result"
    }
   ],
   "source": [
    "df1.set_index(\"Id\")"
   ]
  },
  {
   "cell_type": "markdown",
   "metadata": {},
   "source": [
    "Fresh"
   ]
  },
  {
   "cell_type": "markdown",
   "metadata": {},
   "source": [
    "->start<-"
   ]
  },
  {
   "cell_type": "code",
   "execution_count": 4,
   "metadata": {},
   "outputs": [],
   "source": [
    "import pandas as pd"
   ]
  },
  {
   "cell_type": "code",
   "execution_count": 2,
   "metadata": {},
   "outputs": [],
   "source": [
    "data = {\n",
    "    \"name\": (\"Avanish\", \"Vivek\", \"Ayush\", \"Ashish\"),\n",
    "    \"marks\": (91, 89, 99, 100),\n",
    "    \"city\": (\"Ayodhya\", \"Pratapgar\", \"Chanda\", \"Sultanpur\")\n",
    "}"
   ]
  },
  {
   "cell_type": "code",
   "execution_count": 5,
   "metadata": {},
   "outputs": [],
   "source": [
    "df = pd.DataFrame(data)"
   ]
  },
  {
   "cell_type": "code",
   "execution_count": 6,
   "metadata": {},
   "outputs": [
    {
     "data": {
      "text/html": [
       "<div>\n",
       "<style scoped>\n",
       "    .dataframe tbody tr th:only-of-type {\n",
       "        vertical-align: middle;\n",
       "    }\n",
       "\n",
       "    .dataframe tbody tr th {\n",
       "        vertical-align: top;\n",
       "    }\n",
       "\n",
       "    .dataframe thead th {\n",
       "        text-align: right;\n",
       "    }\n",
       "</style>\n",
       "<table border=\"1\" class=\"dataframe\">\n",
       "  <thead>\n",
       "    <tr style=\"text-align: right;\">\n",
       "      <th></th>\n",
       "      <th>name</th>\n",
       "      <th>marks</th>\n",
       "      <th>city</th>\n",
       "    </tr>\n",
       "  </thead>\n",
       "  <tbody>\n",
       "    <tr>\n",
       "      <th>0</th>\n",
       "      <td>Avanish</td>\n",
       "      <td>91</td>\n",
       "      <td>Ayodhya</td>\n",
       "    </tr>\n",
       "    <tr>\n",
       "      <th>1</th>\n",
       "      <td>Vivek</td>\n",
       "      <td>89</td>\n",
       "      <td>Pratapgar</td>\n",
       "    </tr>\n",
       "    <tr>\n",
       "      <th>2</th>\n",
       "      <td>Ayush</td>\n",
       "      <td>99</td>\n",
       "      <td>Chanda</td>\n",
       "    </tr>\n",
       "    <tr>\n",
       "      <th>3</th>\n",
       "      <td>Ashish</td>\n",
       "      <td>100</td>\n",
       "      <td>Sultanpur</td>\n",
       "    </tr>\n",
       "  </tbody>\n",
       "</table>\n",
       "</div>"
      ],
      "text/plain": [
       "      name  marks       city\n",
       "0  Avanish     91    Ayodhya\n",
       "1    Vivek     89  Pratapgar\n",
       "2    Ayush     99     Chanda\n",
       "3   Ashish    100  Sultanpur"
      ]
     },
     "execution_count": 6,
     "metadata": {},
     "output_type": "execute_result"
    }
   ],
   "source": [
    "df"
   ]
  },
  {
   "cell_type": "code",
   "execution_count": 9,
   "metadata": {},
   "outputs": [
    {
     "name": "stdout",
     "output_type": "stream",
     "text": [
      "Collecting matplotlib\n",
      "  Downloading matplotlib-3.9.2-cp311-cp311-win_amd64.whl (7.8 MB)\n",
      "                                              0.0/7.8 MB ? eta -:--:--\n",
      "                                              0.0/7.8 MB ? eta -:--:--\n",
      "                                              0.1/7.8 MB 825.8 kB/s eta 0:00:10\n",
      "                                              0.1/7.8 MB 825.8 kB/s eta 0:00:10\n",
      "                                              0.1/7.8 MB 825.8 kB/s eta 0:00:10\n",
      "                                              0.2/7.8 MB 985.7 kB/s eta 0:00:08\n",
      "     -                                        0.3/7.8 MB 927.4 kB/s eta 0:00:09\n",
      "     -                                        0.3/7.8 MB 899.5 kB/s eta 0:00:09\n",
      "     -                                        0.4/7.8 MB 928.4 kB/s eta 0:00:09\n",
      "     -                                        0.4/7.8 MB 928.4 kB/s eta 0:00:09\n",
      "     --                                       0.4/7.8 MB 919.0 kB/s eta 0:00:09\n",
      "     --                                       0.5/7.8 MB 855.0 kB/s eta 0:00:09\n",
      "     --                                       0.5/7.8 MB 885.8 kB/s eta 0:00:09\n",
      "     --                                       0.5/7.8 MB 885.8 kB/s eta 0:00:09\n",
      "     --                                       0.5/7.8 MB 885.8 kB/s eta 0:00:09\n",
      "     ---                                      0.7/7.8 MB 843.3 kB/s eta 0:00:09\n",
      "     ---                                      0.7/7.8 MB 843.3 kB/s eta 0:00:09\n",
      "     ---                                      0.8/7.8 MB 862.9 kB/s eta 0:00:09\n",
      "     ----                                     0.8/7.8 MB 896.1 kB/s eta 0:00:08\n",
      "     ----                                     0.9/7.8 MB 901.1 kB/s eta 0:00:08\n",
      "     -----                                    1.0/7.8 MB 969.2 kB/s eta 0:00:08\n",
      "     -----                                    1.1/7.8 MB 1.0 MB/s eta 0:00:07\n",
      "     ------                                   1.2/7.8 MB 1.1 MB/s eta 0:00:07\n",
      "     ------                                   1.3/7.8 MB 1.1 MB/s eta 0:00:06\n",
      "     -------                                  1.4/7.8 MB 1.1 MB/s eta 0:00:06\n",
      "     -------                                  1.5/7.8 MB 1.2 MB/s eta 0:00:06\n",
      "     --------                                 1.6/7.8 MB 1.2 MB/s eta 0:00:06\n",
      "     --------                                 1.8/7.8 MB 1.2 MB/s eta 0:00:05\n",
      "     ---------                                1.8/7.8 MB 1.3 MB/s eta 0:00:05\n",
      "     ----------                               2.0/7.8 MB 1.3 MB/s eta 0:00:05\n",
      "     ----------                               2.1/7.8 MB 1.3 MB/s eta 0:00:05\n",
      "     -----------                              2.2/7.8 MB 1.3 MB/s eta 0:00:05\n",
      "     -----------                              2.3/7.8 MB 1.3 MB/s eta 0:00:05\n",
      "     ------------                             2.5/7.8 MB 1.4 MB/s eta 0:00:04\n",
      "     -------------                            2.6/7.8 MB 1.4 MB/s eta 0:00:04\n",
      "     -------------                            2.7/7.8 MB 1.4 MB/s eta 0:00:04\n",
      "     --------------                           2.9/7.8 MB 1.5 MB/s eta 0:00:04\n",
      "     ---------------                          3.0/7.8 MB 1.5 MB/s eta 0:00:04\n",
      "     ---------------                          3.1/7.8 MB 1.5 MB/s eta 0:00:04\n",
      "     ----------------                         3.3/7.8 MB 1.5 MB/s eta 0:00:04\n",
      "     -----------------                        3.4/7.8 MB 1.5 MB/s eta 0:00:03\n",
      "     -----------------                        3.4/7.8 MB 1.5 MB/s eta 0:00:03\n",
      "     ------------------                       3.6/7.8 MB 1.6 MB/s eta 0:00:03\n",
      "     ------------------                       3.6/7.8 MB 1.6 MB/s eta 0:00:03\n",
      "     -------------------                      3.8/7.8 MB 1.6 MB/s eta 0:00:03\n",
      "     -------------------                      3.9/7.8 MB 1.6 MB/s eta 0:00:03\n",
      "     --------------------                     4.0/7.8 MB 1.6 MB/s eta 0:00:03\n",
      "     ---------------------                    4.1/7.8 MB 1.6 MB/s eta 0:00:03\n",
      "     ---------------------                    4.2/7.8 MB 1.7 MB/s eta 0:00:03\n",
      "     ----------------------                   4.4/7.8 MB 1.7 MB/s eta 0:00:03\n",
      "     ----------------------                   4.5/7.8 MB 1.7 MB/s eta 0:00:03\n",
      "     -----------------------                  4.5/7.8 MB 1.7 MB/s eta 0:00:02\n",
      "     -----------------------                  4.6/7.8 MB 1.7 MB/s eta 0:00:02\n",
      "     ------------------------                 4.7/7.8 MB 1.7 MB/s eta 0:00:02\n",
      "     ------------------------                 4.8/7.8 MB 1.7 MB/s eta 0:00:02\n",
      "     -------------------------                5.0/7.8 MB 1.7 MB/s eta 0:00:02\n",
      "     -------------------------                5.1/7.8 MB 1.7 MB/s eta 0:00:02\n",
      "     --------------------------               5.2/7.8 MB 1.7 MB/s eta 0:00:02\n",
      "     --------------------------               5.2/7.8 MB 1.7 MB/s eta 0:00:02\n",
      "     ---------------------------              5.3/7.8 MB 1.7 MB/s eta 0:00:02\n",
      "     ---------------------------              5.3/7.8 MB 1.7 MB/s eta 0:00:02\n",
      "     ---------------------------              5.4/7.8 MB 1.7 MB/s eta 0:00:02\n",
      "     ---------------------------              5.4/7.8 MB 1.7 MB/s eta 0:00:02\n",
      "     ----------------------------             5.5/7.8 MB 1.7 MB/s eta 0:00:02\n",
      "     ----------------------------             5.6/7.8 MB 1.7 MB/s eta 0:00:02\n",
      "     ----------------------------             5.7/7.8 MB 1.7 MB/s eta 0:00:02\n",
      "     ----------------------------             5.7/7.8 MB 1.7 MB/s eta 0:00:02\n",
      "     -----------------------------            5.8/7.8 MB 1.7 MB/s eta 0:00:02\n",
      "     -----------------------------            5.8/7.8 MB 1.7 MB/s eta 0:00:02\n",
      "     ------------------------------           5.9/7.8 MB 1.6 MB/s eta 0:00:02\n",
      "     ------------------------------           5.9/7.8 MB 1.6 MB/s eta 0:00:02\n",
      "     ------------------------------           6.0/7.8 MB 1.6 MB/s eta 0:00:02\n",
      "     -------------------------------          6.1/7.8 MB 1.6 MB/s eta 0:00:02\n",
      "     -------------------------------          6.1/7.8 MB 1.6 MB/s eta 0:00:02\n",
      "     -------------------------------          6.1/7.8 MB 1.6 MB/s eta 0:00:02\n",
      "     -------------------------------          6.2/7.8 MB 1.6 MB/s eta 0:00:01\n",
      "     -------------------------------          6.3/7.8 MB 1.6 MB/s eta 0:00:01\n",
      "     --------------------------------         6.3/7.8 MB 1.6 MB/s eta 0:00:01\n",
      "     --------------------------------         6.3/7.8 MB 1.6 MB/s eta 0:00:01\n",
      "     ---------------------------------        6.5/7.8 MB 1.6 MB/s eta 0:00:01\n",
      "     ---------------------------------        6.6/7.8 MB 1.6 MB/s eta 0:00:01\n",
      "     ---------------------------------        6.6/7.8 MB 1.6 MB/s eta 0:00:01\n",
      "     ----------------------------------       6.7/7.8 MB 1.6 MB/s eta 0:00:01\n",
      "     ----------------------------------       6.7/7.8 MB 1.6 MB/s eta 0:00:01\n",
      "     ----------------------------------       6.8/7.8 MB 1.6 MB/s eta 0:00:01\n",
      "     -----------------------------------      6.9/7.8 MB 1.6 MB/s eta 0:00:01\n",
      "     -----------------------------------      6.9/7.8 MB 1.6 MB/s eta 0:00:01\n",
      "     ------------------------------------     7.1/7.8 MB 1.5 MB/s eta 0:00:01\n",
      "     ------------------------------------     7.1/7.8 MB 1.5 MB/s eta 0:00:01\n",
      "     ------------------------------------     7.2/7.8 MB 1.5 MB/s eta 0:00:01\n",
      "     -------------------------------------    7.3/7.8 MB 1.5 MB/s eta 0:00:01\n",
      "     -------------------------------------    7.3/7.8 MB 1.5 MB/s eta 0:00:01\n",
      "     -------------------------------------    7.4/7.8 MB 1.5 MB/s eta 0:00:01\n",
      "     --------------------------------------   7.5/7.8 MB 1.5 MB/s eta 0:00:01\n",
      "     --------------------------------------   7.5/7.8 MB 1.5 MB/s eta 0:00:01\n",
      "     ---------------------------------------  7.7/7.8 MB 1.5 MB/s eta 0:00:01\n",
      "     ---------------------------------------  7.7/7.8 MB 1.5 MB/s eta 0:00:01\n",
      "     ---------------------------------------  7.8/7.8 MB 1.5 MB/s eta 0:00:01\n",
      "     ---------------------------------------  7.8/7.8 MB 1.5 MB/s eta 0:00:01\n",
      "     ---------------------------------------  7.8/7.8 MB 1.5 MB/s eta 0:00:01\n",
      "     ---------------------------------------  7.8/7.8 MB 1.5 MB/s eta 0:00:01\n",
      "     ---------------------------------------  7.8/7.8 MB 1.5 MB/s eta 0:00:01\n",
      "     ---------------------------------------- 7.8/7.8 MB 1.4 MB/s eta 0:00:00\n",
      "Collecting contourpy>=1.0.1 (from matplotlib)\n",
      "  Downloading contourpy-1.2.1-cp311-cp311-win_amd64.whl (188 kB)\n",
      "                                              0.0/188.2 kB ? eta -:--:--\n",
      "     ----------------------------           143.4/188.2 kB 4.3 MB/s eta 0:00:01\n",
      "     -------------------------------------  184.3/188.2 kB 2.8 MB/s eta 0:00:01\n",
      "     -------------------------------------- 188.2/188.2 kB 1.1 MB/s eta 0:00:00\n",
      "Collecting cycler>=0.10 (from matplotlib)\n",
      "  Downloading cycler-0.12.1-py3-none-any.whl (8.3 kB)\n",
      "Collecting fonttools>=4.22.0 (from matplotlib)\n",
      "  Downloading fonttools-4.53.1-cp311-cp311-win_amd64.whl (2.2 MB)\n",
      "                                              0.0/2.2 MB ? eta -:--:--\n",
      "                                              0.1/2.2 MB ? eta -:--:--\n",
      "                                              0.1/2.2 MB ? eta -:--:--\n",
      "     ---                                      0.2/2.2 MB 1.5 MB/s eta 0:00:02\n",
      "     ---                                      0.2/2.2 MB 1.5 MB/s eta 0:00:02\n",
      "     -----                                    0.3/2.2 MB 1.4 MB/s eta 0:00:02\n",
      "     -----                                    0.3/2.2 MB 1.4 MB/s eta 0:00:02\n",
      "     -------                                  0.4/2.2 MB 1.2 MB/s eta 0:00:02\n",
      "     --------                                 0.5/2.2 MB 1.2 MB/s eta 0:00:02\n",
      "     --------                                 0.5/2.2 MB 1.2 MB/s eta 0:00:02\n",
      "     ---------                                0.5/2.2 MB 1.0 MB/s eta 0:00:02\n",
      "     ----------                               0.6/2.2 MB 1.0 MB/s eta 0:00:02\n",
      "     ------------                             0.7/2.2 MB 1.1 MB/s eta 0:00:02\n",
      "     ------------                             0.7/2.2 MB 1.1 MB/s eta 0:00:02\n",
      "     --------------                           0.8/2.2 MB 1.1 MB/s eta 0:00:02\n",
      "     --------------                           0.8/2.2 MB 1.1 MB/s eta 0:00:02\n",
      "     ---------------                          0.9/2.2 MB 1.1 MB/s eta 0:00:02\n",
      "     ------------------                       1.0/2.2 MB 1.1 MB/s eta 0:00:02\n",
      "     ------------------                       1.0/2.2 MB 1.1 MB/s eta 0:00:02\n",
      "     --------------------                     1.1/2.2 MB 1.1 MB/s eta 0:00:02\n",
      "     ---------------------                    1.2/2.2 MB 1.1 MB/s eta 0:00:01\n",
      "     ---------------------                    1.2/2.2 MB 1.1 MB/s eta 0:00:01\n",
      "     -----------------------                  1.3/2.2 MB 1.1 MB/s eta 0:00:01\n",
      "     -------------------------                1.4/2.2 MB 1.1 MB/s eta 0:00:01\n",
      "     --------------------------               1.5/2.2 MB 1.1 MB/s eta 0:00:01\n",
      "     ----------------------------             1.6/2.2 MB 1.1 MB/s eta 0:00:01\n",
      "     ------------------------------           1.7/2.2 MB 1.2 MB/s eta 0:00:01\n",
      "     --------------------------------         1.8/2.2 MB 1.2 MB/s eta 0:00:01\n",
      "     ---------------------------------        1.9/2.2 MB 1.2 MB/s eta 0:00:01\n",
      "     ------------------------------------     2.0/2.2 MB 1.3 MB/s eta 0:00:01\n",
      "     --------------------------------------   2.1/2.2 MB 1.3 MB/s eta 0:00:01\n",
      "     ---------------------------------------  2.2/2.2 MB 1.3 MB/s eta 0:00:01\n",
      "     ---------------------------------------  2.2/2.2 MB 1.3 MB/s eta 0:00:01\n",
      "     ---------------------------------------  2.2/2.2 MB 1.3 MB/s eta 0:00:01\n",
      "     ---------------------------------------- 2.2/2.2 MB 1.2 MB/s eta 0:00:00\n",
      "Collecting kiwisolver>=1.3.1 (from matplotlib)\n",
      "  Downloading kiwisolver-1.4.5-cp311-cp311-win_amd64.whl (56 kB)\n",
      "                                              0.0/56.1 kB ? eta -:--:--\n",
      "     ------------------------------------     51.2/56.1 kB ? eta -:--:--\n",
      "     ------------------------------------     51.2/56.1 kB ? eta -:--:--\n",
      "     -------------------------------------- 56.1/56.1 kB 588.2 kB/s eta 0:00:00\n",
      "Requirement already satisfied: numpy>=1.23 in e:\\playground\\python_playgroung_codes\\data_science\\pandas\\pandas-venv\\lib\\site-packages (from matplotlib) (1.26.4)\n",
      "Requirement already satisfied: packaging>=20.0 in e:\\playground\\python_playgroung_codes\\data_science\\pandas\\pandas-venv\\lib\\site-packages (from matplotlib) (24.0)\n",
      "Collecting pillow>=8 (from matplotlib)\n",
      "  Downloading pillow-10.4.0-cp311-cp311-win_amd64.whl (2.6 MB)\n",
      "                                              0.0/2.6 MB ? eta -:--:--\n",
      "     ------                                   0.4/2.6 MB 12.6 MB/s eta 0:00:01\n",
      "     --------                                 0.5/2.6 MB 6.6 MB/s eta 0:00:01\n",
      "     --------                                 0.6/2.6 MB 7.0 MB/s eta 0:00:01\n",
      "     ----------                               0.7/2.6 MB 4.6 MB/s eta 0:00:01\n",
      "     ----------                               0.7/2.6 MB 4.6 MB/s eta 0:00:01\n",
      "     ------------                             0.8/2.6 MB 3.1 MB/s eta 0:00:01\n",
      "     ------------                             0.8/2.6 MB 3.1 MB/s eta 0:00:01\n",
      "     --------------                           0.9/2.6 MB 2.6 MB/s eta 0:00:01\n",
      "     --------------                           0.9/2.6 MB 2.6 MB/s eta 0:00:01\n",
      "     ----------------                         1.0/2.6 MB 2.2 MB/s eta 0:00:01\n",
      "     ----------------                         1.0/2.6 MB 2.1 MB/s eta 0:00:01\n",
      "     ------------------                       1.2/2.6 MB 2.1 MB/s eta 0:00:01\n",
      "     ------------------                       1.2/2.6 MB 2.1 MB/s eta 0:00:01\n",
      "     -------------------                      1.3/2.6 MB 1.9 MB/s eta 0:00:01\n",
      "     -------------------                      1.3/2.6 MB 1.9 MB/s eta 0:00:01\n",
      "     ---------------------                    1.4/2.6 MB 1.9 MB/s eta 0:00:01\n",
      "     ---------------------                    1.4/2.6 MB 1.9 MB/s eta 0:00:01\n",
      "     -----------------------                  1.5/2.6 MB 1.8 MB/s eta 0:00:01\n",
      "     -----------------------                  1.5/2.6 MB 1.8 MB/s eta 0:00:01\n",
      "     -------------------------                1.6/2.6 MB 1.7 MB/s eta 0:00:01\n",
      "     -------------------------                1.6/2.6 MB 1.7 MB/s eta 0:00:01\n",
      "     ---------------------------              1.8/2.6 MB 1.7 MB/s eta 0:00:01\n",
      "     ---------------------------              1.8/2.6 MB 1.7 MB/s eta 0:00:01\n",
      "     -----------------------------            1.9/2.6 MB 1.6 MB/s eta 0:00:01\n",
      "     -----------------------------            1.9/2.6 MB 1.6 MB/s eta 0:00:01\n",
      "     -------------------------------          2.0/2.6 MB 1.6 MB/s eta 0:00:01\n",
      "     -------------------------------          2.0/2.6 MB 1.6 MB/s eta 0:00:01\n",
      "     ---------------------------------        2.2/2.6 MB 1.6 MB/s eta 0:00:01\n",
      "     ---------------------------------        2.2/2.6 MB 1.6 MB/s eta 0:00:01\n",
      "     -----------------------------------      2.3/2.6 MB 1.6 MB/s eta 0:00:01\n",
      "     -----------------------------------      2.3/2.6 MB 1.6 MB/s eta 0:00:01\n",
      "     --------------------------------------   2.4/2.6 MB 1.5 MB/s eta 0:00:01\n",
      "     ---------------------------------------  2.5/2.6 MB 1.5 MB/s eta 0:00:01\n",
      "     ---------------------------------------  2.5/2.6 MB 1.5 MB/s eta 0:00:01\n",
      "     ---------------------------------------  2.5/2.6 MB 1.5 MB/s eta 0:00:01\n",
      "     ---------------------------------------  2.5/2.6 MB 1.5 MB/s eta 0:00:01\n",
      "     ---------------------------------------  2.5/2.6 MB 1.5 MB/s eta 0:00:01\n",
      "     ---------------------------------------  2.5/2.6 MB 1.5 MB/s eta 0:00:01\n",
      "     ---------------------------------------  2.5/2.6 MB 1.5 MB/s eta 0:00:01\n",
      "     ---------------------------------------  2.5/2.6 MB 1.5 MB/s eta 0:00:01\n",
      "     ---------------------------------------  2.5/2.6 MB 1.5 MB/s eta 0:00:01\n",
      "     ---------------------------------------  2.5/2.6 MB 1.5 MB/s eta 0:00:01\n",
      "     ---------------------------------------  2.5/2.6 MB 1.5 MB/s eta 0:00:01\n",
      "     ---------------------------------------  2.5/2.6 MB 1.5 MB/s eta 0:00:01\n",
      "     ---------------------------------------- 2.6/2.6 MB 1.1 MB/s eta 0:00:00\n",
      "Collecting pyparsing>=2.3.1 (from matplotlib)\n",
      "  Downloading pyparsing-3.1.2-py3-none-any.whl (103 kB)\n",
      "                                              0.0/103.2 kB ? eta -:--:--\n",
      "     -------------------------------------  102.4/103.2 kB 6.1 MB/s eta 0:00:01\n",
      "     -------------------------------------  102.4/103.2 kB 6.1 MB/s eta 0:00:01\n",
      "     -------------------------------------  102.4/103.2 kB 6.1 MB/s eta 0:00:01\n",
      "     ------------------------------------ 103.2/103.2 kB 596.2 kB/s eta 0:00:00\n",
      "Requirement already satisfied: python-dateutil>=2.7 in e:\\playground\\python_playgroung_codes\\data_science\\pandas\\pandas-venv\\lib\\site-packages (from matplotlib) (2.9.0.post0)\n",
      "Requirement already satisfied: six>=1.5 in e:\\playground\\python_playgroung_codes\\data_science\\pandas\\pandas-venv\\lib\\site-packages (from python-dateutil>=2.7->matplotlib) (1.16.0)\n",
      "Installing collected packages: pyparsing, pillow, kiwisolver, fonttools, cycler, contourpy, matplotlib\n",
      "Successfully installed contourpy-1.2.1 cycler-0.12.1 fonttools-4.53.1 kiwisolver-1.4.5 matplotlib-3.9.2 pillow-10.4.0 pyparsing-3.1.2\n",
      "Note: you may need to restart the kernel to use updated packages.\n"
     ]
    },
    {
     "name": "stderr",
     "output_type": "stream",
     "text": [
      "\n",
      "[notice] A new release of pip is available: 23.1.2 -> 24.2\n",
      "[notice] To update, run: python.exe -m pip install --upgrade pip\n"
     ]
    }
   ],
   "source": [
    "pip install matplotlib"
   ]
  },
  {
   "cell_type": "code",
   "execution_count": 11,
   "metadata": {},
   "outputs": [
    {
     "data": {
      "text/plain": [
       "<Axes: >"
      ]
     },
     "execution_count": 11,
     "metadata": {},
     "output_type": "execute_result"
    },
    {
     "data": {
      "image/png": "[encoded data removed]",
      "text/plain": [
       "<Figure size 640x480 with 1 Axes>"
      ]
     },
     "metadata": {},
     "output_type": "display_data"
    }
   ],
   "source": [
    "%matplotlib inline\n",
    "df.marks.plot()"
   ]
  },
  {
   "cell_type": "code",
   "execution_count": 13,
   "metadata": {},
   "outputs": [],
   "source": [
    "df.to_csv(\"marks.csv\", index=False)"
   ]
  },
  {
   "cell_type": "code",
   "execution_count": 14,
   "metadata": {},
   "outputs": [
    {
     "data": {
      "text/html": [
       "<div>\n",
       "<style scoped>\n",
       "    .dataframe tbody tr th:only-of-type {\n",
       "        vertical-align: middle;\n",
       "    }\n",
       "\n",
       "    .dataframe tbody tr th {\n",
       "        vertical-align: top;\n",
       "    }\n",
       "\n",
       "    .dataframe thead th {\n",
       "        text-align: right;\n",
       "    }\n",
       "</style>\n",
       "<table border=\"1\" class=\"dataframe\">\n",
       "  <thead>\n",
       "    <tr style=\"text-align: right;\">\n",
       "      <th></th>\n",
       "      <th>name</th>\n",
       "      <th>marks</th>\n",
       "      <th>city</th>\n",
       "    </tr>\n",
       "  </thead>\n",
       "  <tbody>\n",
       "    <tr>\n",
       "      <th>0</th>\n",
       "      <td>Avanish</td>\n",
       "      <td>91</td>\n",
       "      <td>Ayodhya</td>\n",
       "    </tr>\n",
       "    <tr>\n",
       "      <th>1</th>\n",
       "      <td>Vivek</td>\n",
       "      <td>89</td>\n",
       "      <td>Pratapgar</td>\n",
       "    </tr>\n",
       "    <tr>\n",
       "      <th>2</th>\n",
       "      <td>Ayush</td>\n",
       "      <td>99</td>\n",
       "      <td>Chanda</td>\n",
       "    </tr>\n",
       "    <tr>\n",
       "      <th>3</th>\n",
       "      <td>Ashish</td>\n",
       "      <td>100</td>\n",
       "      <td>Sultanpur</td>\n",
       "    </tr>\n",
       "  </tbody>\n",
       "</table>\n",
       "</div>"
      ],
      "text/plain": [
       "      name  marks       city\n",
       "0  Avanish     91    Ayodhya\n",
       "1    Vivek     89  Pratapgar\n",
       "2    Ayush     99     Chanda\n",
       "3   Ashish    100  Sultanpur"
      ]
     },
     "execution_count": 14,
     "metadata": {},
     "output_type": "execute_result"
    }
   ],
   "source": [
    "df"
   ]
  },
  {
   "cell_type": "code",
   "execution_count": 15,
   "metadata": {},
   "outputs": [
    {
     "data": {
      "text/plain": [
       "<Axes: >"
      ]
     },
     "execution_count": 15,
     "metadata": {},
     "output_type": "execute_result"
    },
    {
     "data": {
      "image/png": "[encoded data removed]",
      "text/plain": [
       "<Figure size 640x480 with 1 Axes>"
      ]
     },
     "metadata": {},
     "output_type": "display_data"
    }
   ],
   "source": [
    "%matplotlib inline\n",
    "df.plot()"
   ]
  },
  {
   "cell_type": "code",
   "execution_count": 16,
   "metadata": {},
   "outputs": [],
   "source": [
    "df[\"age\"] = [22, 21, 20, 11]"
   ]
  },
  {
   "cell_type": "code",
   "execution_count": 17,
   "metadata": {},
   "outputs": [
    {
     "data": {
      "text/html": [
       "<div>\n",
       "<style scoped>\n",
       "    .dataframe tbody tr th:only-of-type {\n",
       "        vertical-align: middle;\n",
       "    }\n",
       "\n",
       "    .dataframe tbody tr th {\n",
       "        vertical-align: top;\n",
       "    }\n",
       "\n",
       "    .dataframe thead th {\n",
       "        text-align: right;\n",
       "    }\n",
       "</style>\n",
       "<table border=\"1\" class=\"dataframe\">\n",
       "  <thead>\n",
       "    <tr style=\"text-align: right;\">\n",
       "      <th></th>\n",
       "      <th>name</th>\n",
       "      <th>marks</th>\n",
       "      <th>city</th>\n",
       "      <th>age</th>\n",
       "    </tr>\n",
       "  </thead>\n",
       "  <tbody>\n",
       "    <tr>\n",
       "      <th>0</th>\n",
       "      <td>Avanish</td>\n",
       "      <td>91</td>\n",
       "      <td>Ayodhya</td>\n",
       "      <td>22</td>\n",
       "    </tr>\n",
       "    <tr>\n",
       "      <th>1</th>\n",
       "      <td>Vivek</td>\n",
       "      <td>89</td>\n",
       "      <td>Pratapgar</td>\n",
       "      <td>21</td>\n",
       "    </tr>\n",
       "    <tr>\n",
       "      <th>2</th>\n",
       "      <td>Ayush</td>\n",
       "      <td>99</td>\n",
       "      <td>Chanda</td>\n",
       "      <td>20</td>\n",
       "    </tr>\n",
       "    <tr>\n",
       "      <th>3</th>\n",
       "      <td>Ashish</td>\n",
       "      <td>100</td>\n",
       "      <td>Sultanpur</td>\n",
       "      <td>11</td>\n",
       "    </tr>\n",
       "  </tbody>\n",
       "</table>\n",
       "</div>"
      ],
      "text/plain": [
       "      name  marks       city  age\n",
       "0  Avanish     91    Ayodhya   22\n",
       "1    Vivek     89  Pratapgar   21\n",
       "2    Ayush     99     Chanda   20\n",
       "3   Ashish    100  Sultanpur   11"
      ]
     },
     "execution_count": 17,
     "metadata": {},
     "output_type": "execute_result"
    }
   ],
   "source": [
    "df"
   ]
  },
  {
   "cell_type": "code",
   "execution_count": 18,
   "metadata": {},
   "outputs": [
    {
     "data": {
      "text/plain": [
       "<Axes: >"
      ]
     },
     "execution_count": 18,
     "metadata": {},
     "output_type": "execute_result"
    },
    {
     "data": {
      "image/png": "[encoded data removed]",
      "text/plain": [
       "<Figure size 640x480 with 1 Axes>"
      ]
     },
     "metadata": {},
     "output_type": "display_data"
    }
   ],
   "source": [
    "%matplotlib inline\n",
    "df.plot()"
   ]
  },
  {
   "cell_type": "code",
   "execution_count": 19,
   "metadata": {},
   "outputs": [
    {
     "data": {
      "text/html": [
       "<div>\n",
       "<style scoped>\n",
       "    .dataframe tbody tr th:only-of-type {\n",
       "        vertical-align: middle;\n",
       "    }\n",
       "\n",
       "    .dataframe tbody tr th {\n",
       "        vertical-align: top;\n",
       "    }\n",
       "\n",
       "    .dataframe thead th {\n",
       "        text-align: right;\n",
       "    }\n",
       "</style>\n",
       "<table border=\"1\" class=\"dataframe\">\n",
       "  <thead>\n",
       "    <tr style=\"text-align: right;\">\n",
       "      <th></th>\n",
       "      <th>marks</th>\n",
       "      <th>city</th>\n",
       "      <th>age</th>\n",
       "    </tr>\n",
       "    <tr>\n",
       "      <th>name</th>\n",
       "      <th></th>\n",
       "      <th></th>\n",
       "      <th></th>\n",
       "    </tr>\n",
       "  </thead>\n",
       "  <tbody>\n",
       "    <tr>\n",
       "      <th>Avanish</th>\n",
       "      <td>91</td>\n",
       "      <td>Ayodhya</td>\n",
       "      <td>22</td>\n",
       "    </tr>\n",
       "    <tr>\n",
       "      <th>Vivek</th>\n",
       "      <td>89</td>\n",
       "      <td>Pratapgar</td>\n",
       "      <td>21</td>\n",
       "    </tr>\n",
       "    <tr>\n",
       "      <th>Ayush</th>\n",
       "      <td>99</td>\n",
       "      <td>Chanda</td>\n",
       "      <td>20</td>\n",
       "    </tr>\n",
       "    <tr>\n",
       "      <th>Ashish</th>\n",
       "      <td>100</td>\n",
       "      <td>Sultanpur</td>\n",
       "      <td>11</td>\n",
       "    </tr>\n",
       "  </tbody>\n",
       "</table>\n",
       "</div>"
      ],
      "text/plain": [
       "         marks       city  age\n",
       "name                          \n",
       "Avanish     91    Ayodhya   22\n",
       "Vivek       89  Pratapgar   21\n",
       "Ayush       99     Chanda   20\n",
       "Ashish     100  Sultanpur   11"
      ]
     },
     "execution_count": 19,
     "metadata": {},
     "output_type": "execute_result"
    }
   ],
   "source": [
    "df.set_index(\"name\")"
   ]
  },
  {
   "cell_type": "code",
   "execution_count": 20,
   "metadata": {},
   "outputs": [
    {
     "data": {
      "text/plain": [
       "<Axes: >"
      ]
     },
     "execution_count": 20,
     "metadata": {},
     "output_type": "execute_result"
    },
    {
     "data": {
      "image/png": "[encoded data removed]",
      "text/plain": [
       "<Figure size 640x480 with 1 Axes>"
      ]
     },
     "metadata": {},
     "output_type": "display_data"
    }
   ],
   "source": [
    "df.plot()"
   ]
  },
  {
   "cell_type": "code",
   "execution_count": 23,
   "metadata": {},
   "outputs": [
    {
     "data": {
      "image/png": "[encoded data removed]",
      "text/plain": [
       "<Figure size 640x480 with 1 Axes>"
      ]
     },
     "metadata": {},
     "output_type": "display_data"
    }
   ],
   "source": [
    "import matplotlib.pylab as plt\n",
    "df.plot()\n",
    "plt.title(\"Plotting Here\")\n",
    "plt.show()"
   ]
  },
  {
   "cell_type": "code",
   "execution_count": 24,
   "metadata": {},
   "outputs": [
    {
     "data": {
      "text/html": [
       "<div>\n",
       "<style scoped>\n",
       "    .dataframe tbody tr th:only-of-type {\n",
       "        vertical-align: middle;\n",
       "    }\n",
       "\n",
       "    .dataframe tbody tr th {\n",
       "        vertical-align: top;\n",
       "    }\n",
       "\n",
       "    .dataframe thead th {\n",
       "        text-align: right;\n",
       "    }\n",
       "</style>\n",
       "<table border=\"1\" class=\"dataframe\">\n",
       "  <thead>\n",
       "    <tr style=\"text-align: right;\">\n",
       "      <th></th>\n",
       "      <th>name</th>\n",
       "      <th>marks</th>\n",
       "      <th>city</th>\n",
       "      <th>age</th>\n",
       "    </tr>\n",
       "  </thead>\n",
       "  <tbody>\n",
       "    <tr>\n",
       "      <th>0</th>\n",
       "      <td>Avanish</td>\n",
       "      <td>91</td>\n",
       "      <td>Ayodhya</td>\n",
       "      <td>22</td>\n",
       "    </tr>\n",
       "    <tr>\n",
       "      <th>1</th>\n",
       "      <td>Vivek</td>\n",
       "      <td>89</td>\n",
       "      <td>Pratapgar</td>\n",
       "      <td>21</td>\n",
       "    </tr>\n",
       "    <tr>\n",
       "      <th>2</th>\n",
       "      <td>Ayush</td>\n",
       "      <td>99</td>\n",
       "      <td>Chanda</td>\n",
       "      <td>20</td>\n",
       "    </tr>\n",
       "    <tr>\n",
       "      <th>3</th>\n",
       "      <td>Ashish</td>\n",
       "      <td>100</td>\n",
       "      <td>Sultanpur</td>\n",
       "      <td>11</td>\n",
       "    </tr>\n",
       "  </tbody>\n",
       "</table>\n",
       "</div>"
      ],
      "text/plain": [
       "      name  marks       city  age\n",
       "0  Avanish     91    Ayodhya   22\n",
       "1    Vivek     89  Pratapgar   21\n",
       "2    Ayush     99     Chanda   20\n",
       "3   Ashish    100  Sultanpur   11"
      ]
     },
     "execution_count": 24,
     "metadata": {},
     "output_type": "execute_result"
    }
   ],
   "source": [
    "df"
   ]
  },
  {
   "cell_type": "code",
   "execution_count": 26,
   "metadata": {},
   "outputs": [],
   "source": [
    "df1 = df.set_index(\"name\")"
   ]
  },
  {
   "cell_type": "code",
   "execution_count": 27,
   "metadata": {},
   "outputs": [
    {
     "data": {
      "text/html": [
       "<div>\n",
       "<style scoped>\n",
       "    .dataframe tbody tr th:only-of-type {\n",
       "        vertical-align: middle;\n",
       "    }\n",
       "\n",
       "    .dataframe tbody tr th {\n",
       "        vertical-align: top;\n",
       "    }\n",
       "\n",
       "    .dataframe thead th {\n",
       "        text-align: right;\n",
       "    }\n",
       "</style>\n",
       "<table border=\"1\" class=\"dataframe\">\n",
       "  <thead>\n",
       "    <tr style=\"text-align: right;\">\n",
       "      <th></th>\n",
       "      <th>marks</th>\n",
       "      <th>city</th>\n",
       "      <th>age</th>\n",
       "    </tr>\n",
       "    <tr>\n",
       "      <th>name</th>\n",
       "      <th></th>\n",
       "      <th></th>\n",
       "      <th></th>\n",
       "    </tr>\n",
       "  </thead>\n",
       "  <tbody>\n",
       "    <tr>\n",
       "      <th>Avanish</th>\n",
       "      <td>91</td>\n",
       "      <td>Ayodhya</td>\n",
       "      <td>22</td>\n",
       "    </tr>\n",
       "    <tr>\n",
       "      <th>Vivek</th>\n",
       "      <td>89</td>\n",
       "      <td>Pratapgar</td>\n",
       "      <td>21</td>\n",
       "    </tr>\n",
       "    <tr>\n",
       "      <th>Ayush</th>\n",
       "      <td>99</td>\n",
       "      <td>Chanda</td>\n",
       "      <td>20</td>\n",
       "    </tr>\n",
       "    <tr>\n",
       "      <th>Ashish</th>\n",
       "      <td>100</td>\n",
       "      <td>Sultanpur</td>\n",
       "      <td>11</td>\n",
       "    </tr>\n",
       "  </tbody>\n",
       "</table>\n",
       "</div>"
      ],
      "text/plain": [
       "         marks       city  age\n",
       "name                          \n",
       "Avanish     91    Ayodhya   22\n",
       "Vivek       89  Pratapgar   21\n",
       "Ayush       99     Chanda   20\n",
       "Ashish     100  Sultanpur   11"
      ]
     },
     "execution_count": 27,
     "metadata": {},
     "output_type": "execute_result"
    }
   ],
   "source": [
    "df1"
   ]
  },
  {
   "cell_type": "code",
   "execution_count": 28,
   "metadata": {},
   "outputs": [
    {
     "data": {
      "text/plain": [
       "<Axes: xlabel='name'>"
      ]
     },
     "execution_count": 28,
     "metadata": {},
     "output_type": "execute_result"
    },
    {
     "data": {
      "image/png": "[encoded data removed]",
      "text/plain": [
       "<Figure size 640x480 with 1 Axes>"
      ]
     },
     "metadata": {},
     "output_type": "display_data"
    }
   ],
   "source": [
    "df1.plot()"
   ]
  },
  {
   "cell_type": "code",
   "execution_count": 29,
   "metadata": {},
   "outputs": [
    {
     "data": {
      "text/plain": [
       "<Axes: >"
      ]
     },
     "execution_count": 29,
     "metadata": {},
     "output_type": "execute_result"
    },
    {
     "data": {
      "image/png": "[encoded data removed]",
      "text/plain": [
       "<Figure size 640x480 with 1 Axes>"
      ]
     },
     "metadata": {},
     "output_type": "display_data"
    }
   ],
   "source": [
    "df.plot()"
   ]
  },
  {
   "cell_type": "code",
   "execution_count": 46,
   "metadata": {},
   "outputs": [
    {
     "data": {
      "text/html": [
       "<div>\n",
       "<style scoped>\n",
       "    .dataframe tbody tr th:only-of-type {\n",
       "        vertical-align: middle;\n",
       "    }\n",
       "\n",
       "    .dataframe tbody tr th {\n",
       "        vertical-align: top;\n",
       "    }\n",
       "\n",
       "    .dataframe thead th {\n",
       "        text-align: right;\n",
       "    }\n",
       "</style>\n",
       "<table border=\"1\" class=\"dataframe\">\n",
       "  <thead>\n",
       "    <tr style=\"text-align: right;\">\n",
       "      <th></th>\n",
       "      <th>marks</th>\n",
       "      <th>city</th>\n",
       "      <th>age</th>\n",
       "    </tr>\n",
       "    <tr>\n",
       "      <th>name</th>\n",
       "      <th></th>\n",
       "      <th></th>\n",
       "      <th></th>\n",
       "    </tr>\n",
       "  </thead>\n",
       "  <tbody>\n",
       "    <tr>\n",
       "      <th>Avanish</th>\n",
       "      <td>91</td>\n",
       "      <td>Ayodhya</td>\n",
       "      <td>22</td>\n",
       "    </tr>\n",
       "    <tr>\n",
       "      <th>Vivek</th>\n",
       "      <td>89</td>\n",
       "      <td>Pratapgar</td>\n",
       "      <td>21</td>\n",
       "    </tr>\n",
       "    <tr>\n",
       "      <th>Ayush</th>\n",
       "      <td>99</td>\n",
       "      <td>Chanda</td>\n",
       "      <td>20</td>\n",
       "    </tr>\n",
       "    <tr>\n",
       "      <th>Ashish</th>\n",
       "      <td>100</td>\n",
       "      <td>Sultanpur</td>\n",
       "      <td>11</td>\n",
       "    </tr>\n",
       "  </tbody>\n",
       "</table>\n",
       "</div>"
      ],
      "text/plain": [
       "         marks       city  age\n",
       "name                          \n",
       "Avanish     91    Ayodhya   22\n",
       "Vivek       89  Pratapgar   21\n",
       "Ayush       99     Chanda   20\n",
       "Ashish     100  Sultanpur   11"
      ]
     },
     "execution_count": 46,
     "metadata": {},
     "output_type": "execute_result"
    }
   ],
   "source": [
    "df1.to_csv(\"marks.csv\")\n",
    "df1"
   ]
  },
  {
   "cell_type": "code",
   "execution_count": 48,
   "metadata": {},
   "outputs": [
    {
     "data": {
      "text/html": [
       "<div>\n",
       "<style scoped>\n",
       "    .dataframe tbody tr th:only-of-type {\n",
       "        vertical-align: middle;\n",
       "    }\n",
       "\n",
       "    .dataframe tbody tr th {\n",
       "        vertical-align: top;\n",
       "    }\n",
       "\n",
       "    .dataframe thead th {\n",
       "        text-align: right;\n",
       "    }\n",
       "</style>\n",
       "<table border=\"1\" class=\"dataframe\">\n",
       "  <thead>\n",
       "    <tr style=\"text-align: right;\">\n",
       "      <th></th>\n",
       "      <th>name</th>\n",
       "      <th>marks</th>\n",
       "      <th>city</th>\n",
       "      <th>age</th>\n",
       "    </tr>\n",
       "  </thead>\n",
       "  <tbody>\n",
       "    <tr>\n",
       "      <th>0</th>\n",
       "      <td>Avanish</td>\n",
       "      <td>91</td>\n",
       "      <td>Ayodhya</td>\n",
       "      <td>22</td>\n",
       "    </tr>\n",
       "    <tr>\n",
       "      <th>1</th>\n",
       "      <td>Vivek</td>\n",
       "      <td>89</td>\n",
       "      <td>Pratapgar</td>\n",
       "      <td>21</td>\n",
       "    </tr>\n",
       "    <tr>\n",
       "      <th>2</th>\n",
       "      <td>Ayush</td>\n",
       "      <td>99</td>\n",
       "      <td>Chanda</td>\n",
       "      <td>20</td>\n",
       "    </tr>\n",
       "    <tr>\n",
       "      <th>3</th>\n",
       "      <td>Ashish</td>\n",
       "      <td>100</td>\n",
       "      <td>Sultanpur</td>\n",
       "      <td>11</td>\n",
       "    </tr>\n",
       "  </tbody>\n",
       "</table>\n",
       "</div>"
      ],
      "text/plain": [
       "      name  marks       city  age\n",
       "0  Avanish     91    Ayodhya   22\n",
       "1    Vivek     89  Pratapgar   21\n",
       "2    Ayush     99     Chanda   20\n",
       "3   Ashish    100  Sultanpur   11"
      ]
     },
     "execution_count": 48,
     "metadata": {},
     "output_type": "execute_result"
    }
   ],
   "source": [
    "df.to_csv(\"marks.csv\", index=False)\n",
    "df"
   ]
  },
  {
   "cell_type": "code",
   "execution_count": 49,
   "metadata": {},
   "outputs": [
    {
     "data": {
      "text/html": [
       "<div>\n",
       "<style scoped>\n",
       "    .dataframe tbody tr th:only-of-type {\n",
       "        vertical-align: middle;\n",
       "    }\n",
       "\n",
       "    .dataframe tbody tr th {\n",
       "        vertical-align: top;\n",
       "    }\n",
       "\n",
       "    .dataframe thead th {\n",
       "        text-align: right;\n",
       "    }\n",
       "</style>\n",
       "<table border=\"1\" class=\"dataframe\">\n",
       "  <thead>\n",
       "    <tr style=\"text-align: right;\">\n",
       "      <th></th>\n",
       "      <th>name</th>\n",
       "      <th>marks</th>\n",
       "      <th>city</th>\n",
       "      <th>age</th>\n",
       "    </tr>\n",
       "  </thead>\n",
       "  <tbody>\n",
       "    <tr>\n",
       "      <th>0</th>\n",
       "      <td>Avanish</td>\n",
       "      <td>91</td>\n",
       "      <td>Ayodhya</td>\n",
       "      <td>22</td>\n",
       "    </tr>\n",
       "    <tr>\n",
       "      <th>1</th>\n",
       "      <td>Vivek</td>\n",
       "      <td>89</td>\n",
       "      <td>Pratapgar</td>\n",
       "      <td>21</td>\n",
       "    </tr>\n",
       "  </tbody>\n",
       "</table>\n",
       "</div>"
      ],
      "text/plain": [
       "      name  marks       city  age\n",
       "0  Avanish     91    Ayodhya   22\n",
       "1    Vivek     89  Pratapgar   21"
      ]
     },
     "execution_count": 49,
     "metadata": {},
     "output_type": "execute_result"
    }
   ],
   "source": [
    "df.head(2)"
   ]
  },
  {
   "cell_type": "code",
   "execution_count": 50,
   "metadata": {},
   "outputs": [
    {
     "data": {
      "text/html": [
       "<div>\n",
       "<style scoped>\n",
       "    .dataframe tbody tr th:only-of-type {\n",
       "        vertical-align: middle;\n",
       "    }\n",
       "\n",
       "    .dataframe tbody tr th {\n",
       "        vertical-align: top;\n",
       "    }\n",
       "\n",
       "    .dataframe thead th {\n",
       "        text-align: right;\n",
       "    }\n",
       "</style>\n",
       "<table border=\"1\" class=\"dataframe\">\n",
       "  <thead>\n",
       "    <tr style=\"text-align: right;\">\n",
       "      <th></th>\n",
       "      <th>name</th>\n",
       "      <th>marks</th>\n",
       "      <th>city</th>\n",
       "      <th>age</th>\n",
       "    </tr>\n",
       "  </thead>\n",
       "  <tbody>\n",
       "    <tr>\n",
       "      <th>3</th>\n",
       "      <td>Ashish</td>\n",
       "      <td>100</td>\n",
       "      <td>Sultanpur</td>\n",
       "      <td>11</td>\n",
       "    </tr>\n",
       "  </tbody>\n",
       "</table>\n",
       "</div>"
      ],
      "text/plain": [
       "     name  marks       city  age\n",
       "3  Ashish    100  Sultanpur   11"
      ]
     },
     "execution_count": 50,
     "metadata": {},
     "output_type": "execute_result"
    }
   ],
   "source": [
    "df.tail(1)"
   ]
  },
  {
   "cell_type": "code",
   "execution_count": 53,
   "metadata": {},
   "outputs": [
    {
     "data": {
      "text/html": [
       "<div>\n",
       "<style scoped>\n",
       "    .dataframe tbody tr th:only-of-type {\n",
       "        vertical-align: middle;\n",
       "    }\n",
       "\n",
       "    .dataframe tbody tr th {\n",
       "        vertical-align: top;\n",
       "    }\n",
       "\n",
       "    .dataframe thead th {\n",
       "        text-align: right;\n",
       "    }\n",
       "</style>\n",
       "<table border=\"1\" class=\"dataframe\">\n",
       "  <thead>\n",
       "    <tr style=\"text-align: right;\">\n",
       "      <th></th>\n",
       "      <th>marks</th>\n",
       "      <th>age</th>\n",
       "    </tr>\n",
       "  </thead>\n",
       "  <tbody>\n",
       "    <tr>\n",
       "      <th>count</th>\n",
       "      <td>4.000000</td>\n",
       "      <td>4.000000</td>\n",
       "    </tr>\n",
       "    <tr>\n",
       "      <th>mean</th>\n",
       "      <td>94.750000</td>\n",
       "      <td>18.500000</td>\n",
       "    </tr>\n",
       "    <tr>\n",
       "      <th>std</th>\n",
       "      <td>5.560276</td>\n",
       "      <td>5.066228</td>\n",
       "    </tr>\n",
       "    <tr>\n",
       "      <th>min</th>\n",
       "      <td>89.000000</td>\n",
       "      <td>11.000000</td>\n",
       "    </tr>\n",
       "    <tr>\n",
       "      <th>25%</th>\n",
       "      <td>90.500000</td>\n",
       "      <td>17.750000</td>\n",
       "    </tr>\n",
       "    <tr>\n",
       "      <th>50%</th>\n",
       "      <td>95.000000</td>\n",
       "      <td>20.500000</td>\n",
       "    </tr>\n",
       "    <tr>\n",
       "      <th>75%</th>\n",
       "      <td>99.250000</td>\n",
       "      <td>21.250000</td>\n",
       "    </tr>\n",
       "    <tr>\n",
       "      <th>max</th>\n",
       "      <td>100.000000</td>\n",
       "      <td>22.000000</td>\n",
       "    </tr>\n",
       "  </tbody>\n",
       "</table>\n",
       "</div>"
      ],
      "text/plain": [
       "            marks        age\n",
       "count    4.000000   4.000000\n",
       "mean    94.750000  18.500000\n",
       "std      5.560276   5.066228\n",
       "min     89.000000  11.000000\n",
       "25%     90.500000  17.750000\n",
       "50%     95.000000  20.500000\n",
       "75%     99.250000  21.250000\n",
       "max    100.000000  22.000000"
      ]
     },
     "execution_count": 53,
     "metadata": {},
     "output_type": "execute_result"
    }
   ],
   "source": [
    "df.describe()"
   ]
  },
  {
   "cell_type": "code",
   "execution_count": 54,
   "metadata": {},
   "outputs": [],
   "source": [
    "marks = pd.read_csv(\"marks.csv\")"
   ]
  },
  {
   "cell_type": "code",
   "execution_count": 55,
   "metadata": {},
   "outputs": [
    {
     "data": {
      "text/html": [
       "<div>\n",
       "<style scoped>\n",
       "    .dataframe tbody tr th:only-of-type {\n",
       "        vertical-align: middle;\n",
       "    }\n",
       "\n",
       "    .dataframe tbody tr th {\n",
       "        vertical-align: top;\n",
       "    }\n",
       "\n",
       "    .dataframe thead th {\n",
       "        text-align: right;\n",
       "    }\n",
       "</style>\n",
       "<table border=\"1\" class=\"dataframe\">\n",
       "  <thead>\n",
       "    <tr style=\"text-align: right;\">\n",
       "      <th></th>\n",
       "      <th>name</th>\n",
       "      <th>marks</th>\n",
       "      <th>city</th>\n",
       "      <th>age</th>\n",
       "    </tr>\n",
       "  </thead>\n",
       "  <tbody>\n",
       "    <tr>\n",
       "      <th>0</th>\n",
       "      <td>Avanish</td>\n",
       "      <td>91</td>\n",
       "      <td>Ayodhya</td>\n",
       "      <td>22</td>\n",
       "    </tr>\n",
       "    <tr>\n",
       "      <th>1</th>\n",
       "      <td>Vivek</td>\n",
       "      <td>89</td>\n",
       "      <td>Pratapgar</td>\n",
       "      <td>21</td>\n",
       "    </tr>\n",
       "    <tr>\n",
       "      <th>2</th>\n",
       "      <td>Ayush</td>\n",
       "      <td>99</td>\n",
       "      <td>Chanda</td>\n",
       "      <td>20</td>\n",
       "    </tr>\n",
       "    <tr>\n",
       "      <th>3</th>\n",
       "      <td>Ashish</td>\n",
       "      <td>100</td>\n",
       "      <td>Sultanpur</td>\n",
       "      <td>11</td>\n",
       "    </tr>\n",
       "  </tbody>\n",
       "</table>\n",
       "</div>"
      ],
      "text/plain": [
       "      name  marks       city  age\n",
       "0  Avanish     91    Ayodhya   22\n",
       "1    Vivek     89  Pratapgar   21\n",
       "2    Ayush     99     Chanda   20\n",
       "3   Ashish    100  Sultanpur   11"
      ]
     },
     "execution_count": 55,
     "metadata": {},
     "output_type": "execute_result"
    }
   ],
   "source": [
    "marks"
   ]
  },
  {
   "cell_type": "code",
   "execution_count": 56,
   "metadata": {},
   "outputs": [],
   "source": [
    "del marks"
   ]
  },
  {
   "cell_type": "code",
   "execution_count": 57,
   "metadata": {},
   "outputs": [
    {
     "ename": "NameError",
     "evalue": "name 'marks' is not defined",
     "output_type": "error",
     "traceback": [
      "\u001b[1;31m---------------------------------------------------------------------------\u001b[0m",
      "\u001b[1;31mNameError\u001b[0m                                 Traceback (most recent call last)",
      "Cell \u001b[1;32mIn[57], line 1\u001b[0m\n\u001b[1;32m----> 1\u001b[0m \u001b[43mmarks\u001b[49m \n",
      "\u001b[1;31mNameError\u001b[0m: name 'marks' is not defined"
     ]
    }
   ],
   "source": [
    "marks "
   ]
  },
  {
   "cell_type": "code",
   "execution_count": 67,
   "metadata": {},
   "outputs": [
    {
     "name": "stderr",
     "output_type": "stream",
     "text": [
      "C:\\Users\\avara\\AppData\\Local\\Temp\\ipykernel_9572\\445327577.py:1: FutureWarning: ChainedAssignmentError: behaviour will change in pandas 3.0!\n",
      "You are setting values through chained assignment. Currently this works in certain cases, but when using Copy-on-Write (which will become the default behaviour in pandas 3.0) this will never work to update the original DataFrame or Series, because the intermediate object on which we are setting values will behave as a copy.\n",
      "A typical example is when you are setting values in a column of a DataFrame, like:\n",
      "\n",
      "df[\"col\"][row_indexer] = value\n",
      "\n",
      "Use `df.loc[row_indexer, \"col\"] = values` instead, to perform the assignment in a single step and ensure this keeps updating the original `df`.\n",
      "\n",
      "See the caveats in the documentation: https://pandas.pydata.org/pandas-docs/stable/user_guide/indexing.html#returning-a-view-versus-a-copy\n",
      "\n",
      "  df[\"marks\"][df[\"name\"] == \"Vivek\"] = 10\n",
      "C:\\Users\\avara\\AppData\\Local\\Temp\\ipykernel_9572\\445327577.py:1: SettingWithCopyWarning: \n",
      "A value is trying to be set on a copy of a slice from a DataFrame\n",
      "\n",
      "See the caveats in the documentation: https://pandas.pydata.org/pandas-docs/stable/user_guide/indexing.html#returning-a-view-versus-a-copy\n",
      "  df[\"marks\"][df[\"name\"] == \"Vivek\"] = 10\n"
     ]
    }
   ],
   "source": [
    "df[\"marks\"][df[\"name\"] == \"Vivek\"] = 10"
   ]
  },
  {
   "cell_type": "code",
   "execution_count": 68,
   "metadata": {},
   "outputs": [
    {
     "data": {
      "text/html": [
       "<div>\n",
       "<style scoped>\n",
       "    .dataframe tbody tr th:only-of-type {\n",
       "        vertical-align: middle;\n",
       "    }\n",
       "\n",
       "    .dataframe tbody tr th {\n",
       "        vertical-align: top;\n",
       "    }\n",
       "\n",
       "    .dataframe thead th {\n",
       "        text-align: right;\n",
       "    }\n",
       "</style>\n",
       "<table border=\"1\" class=\"dataframe\">\n",
       "  <thead>\n",
       "    <tr style=\"text-align: right;\">\n",
       "      <th></th>\n",
       "      <th>name</th>\n",
       "      <th>marks</th>\n",
       "      <th>city</th>\n",
       "      <th>age</th>\n",
       "    </tr>\n",
       "  </thead>\n",
       "  <tbody>\n",
       "    <tr>\n",
       "      <th>0</th>\n",
       "      <td>Avanish</td>\n",
       "      <td>91</td>\n",
       "      <td>Ayodhya</td>\n",
       "      <td>22</td>\n",
       "    </tr>\n",
       "    <tr>\n",
       "      <th>1</th>\n",
       "      <td>Vivek</td>\n",
       "      <td>10</td>\n",
       "      <td>Pratapgar</td>\n",
       "      <td>21</td>\n",
       "    </tr>\n",
       "    <tr>\n",
       "      <th>2</th>\n",
       "      <td>Ayush</td>\n",
       "      <td>99</td>\n",
       "      <td>Chanda</td>\n",
       "      <td>20</td>\n",
       "    </tr>\n",
       "    <tr>\n",
       "      <th>3</th>\n",
       "      <td>Ashish</td>\n",
       "      <td>100</td>\n",
       "      <td>Sultanpur</td>\n",
       "      <td>11</td>\n",
       "    </tr>\n",
       "  </tbody>\n",
       "</table>\n",
       "</div>"
      ],
      "text/plain": [
       "      name  marks       city  age\n",
       "0  Avanish     91    Ayodhya   22\n",
       "1    Vivek     10  Pratapgar   21\n",
       "2    Ayush     99     Chanda   20\n",
       "3   Ashish    100  Sultanpur   11"
      ]
     },
     "execution_count": 68,
     "metadata": {},
     "output_type": "execute_result"
    }
   ],
   "source": [
    "df"
   ]
  },
  {
   "cell_type": "code",
   "execution_count": 69,
   "metadata": {},
   "outputs": [
    {
     "data": {
      "text/html": [
       "<div>\n",
       "<style scoped>\n",
       "    .dataframe tbody tr th:only-of-type {\n",
       "        vertical-align: middle;\n",
       "    }\n",
       "\n",
       "    .dataframe tbody tr th {\n",
       "        vertical-align: top;\n",
       "    }\n",
       "\n",
       "    .dataframe thead th {\n",
       "        text-align: right;\n",
       "    }\n",
       "</style>\n",
       "<table border=\"1\" class=\"dataframe\">\n",
       "  <thead>\n",
       "    <tr style=\"text-align: right;\">\n",
       "      <th></th>\n",
       "      <th>marks</th>\n",
       "      <th>city</th>\n",
       "      <th>age</th>\n",
       "    </tr>\n",
       "    <tr>\n",
       "      <th>name</th>\n",
       "      <th></th>\n",
       "      <th></th>\n",
       "      <th></th>\n",
       "    </tr>\n",
       "  </thead>\n",
       "  <tbody>\n",
       "    <tr>\n",
       "      <th>Avanish</th>\n",
       "      <td>91</td>\n",
       "      <td>Ayodhya</td>\n",
       "      <td>22</td>\n",
       "    </tr>\n",
       "    <tr>\n",
       "      <th>Vivek</th>\n",
       "      <td>89</td>\n",
       "      <td>Pratapgar</td>\n",
       "      <td>21</td>\n",
       "    </tr>\n",
       "    <tr>\n",
       "      <th>Ayush</th>\n",
       "      <td>99</td>\n",
       "      <td>Chanda</td>\n",
       "      <td>20</td>\n",
       "    </tr>\n",
       "    <tr>\n",
       "      <th>Ashish</th>\n",
       "      <td>100</td>\n",
       "      <td>Sultanpur</td>\n",
       "      <td>11</td>\n",
       "    </tr>\n",
       "  </tbody>\n",
       "</table>\n",
       "</div>"
      ],
      "text/plain": [
       "         marks       city  age\n",
       "name                          \n",
       "Avanish     91    Ayodhya   22\n",
       "Vivek       89  Pratapgar   21\n",
       "Ayush       99     Chanda   20\n",
       "Ashish     100  Sultanpur   11"
      ]
     },
     "execution_count": 69,
     "metadata": {},
     "output_type": "execute_result"
    }
   ],
   "source": [
    "df1"
   ]
  },
  {
   "cell_type": "code",
   "execution_count": 72,
   "metadata": {},
   "outputs": [
    {
     "name": "stderr",
     "output_type": "stream",
     "text": [
      "C:\\Users\\avara\\AppData\\Local\\Temp\\ipykernel_9572\\655703119.py:1: FutureWarning: ChainedAssignmentError: behaviour will change in pandas 3.0!\n",
      "You are setting values through chained assignment. Currently this works in certain cases, but when using Copy-on-Write (which will become the default behaviour in pandas 3.0) this will never work to update the original DataFrame or Series, because the intermediate object on which we are setting values will behave as a copy.\n",
      "A typical example is when you are setting values in a column of a DataFrame, like:\n",
      "\n",
      "df[\"col\"][row_indexer] = value\n",
      "\n",
      "Use `df.loc[row_indexer, \"col\"] = values` instead, to perform the assignment in a single step and ensure this keeps updating the original `df`.\n",
      "\n",
      "See the caveats in the documentation: https://pandas.pydata.org/pandas-docs/stable/user_guide/indexing.html#returning-a-view-versus-a-copy\n",
      "\n",
      "  df1[\"marks\"][\"Vivek\"] = 10\n",
      "C:\\Users\\avara\\AppData\\Local\\Temp\\ipykernel_9572\\655703119.py:1: SettingWithCopyWarning: \n",
      "A value is trying to be set on a copy of a slice from a DataFrame\n",
      "\n",
      "See the caveats in the documentation: https://pandas.pydata.org/pandas-docs/stable/user_guide/indexing.html#returning-a-view-versus-a-copy\n",
      "  df1[\"marks\"][\"Vivek\"] = 10\n"
     ]
    }
   ],
   "source": [
    "df1[\"marks\"][\"Vivek\"] = 10"
   ]
  },
  {
   "cell_type": "code",
   "execution_count": 73,
   "metadata": {},
   "outputs": [
    {
     "data": {
      "text/html": [
       "<div>\n",
       "<style scoped>\n",
       "    .dataframe tbody tr th:only-of-type {\n",
       "        vertical-align: middle;\n",
       "    }\n",
       "\n",
       "    .dataframe tbody tr th {\n",
       "        vertical-align: top;\n",
       "    }\n",
       "\n",
       "    .dataframe thead th {\n",
       "        text-align: right;\n",
       "    }\n",
       "</style>\n",
       "<table border=\"1\" class=\"dataframe\">\n",
       "  <thead>\n",
       "    <tr style=\"text-align: right;\">\n",
       "      <th></th>\n",
       "      <th>marks</th>\n",
       "      <th>city</th>\n",
       "      <th>age</th>\n",
       "    </tr>\n",
       "    <tr>\n",
       "      <th>name</th>\n",
       "      <th></th>\n",
       "      <th></th>\n",
       "      <th></th>\n",
       "    </tr>\n",
       "  </thead>\n",
       "  <tbody>\n",
       "    <tr>\n",
       "      <th>Avanish</th>\n",
       "      <td>91</td>\n",
       "      <td>Ayodhya</td>\n",
       "      <td>22</td>\n",
       "    </tr>\n",
       "    <tr>\n",
       "      <th>Vivek</th>\n",
       "      <td>10</td>\n",
       "      <td>Pratapgar</td>\n",
       "      <td>21</td>\n",
       "    </tr>\n",
       "    <tr>\n",
       "      <th>Ayush</th>\n",
       "      <td>99</td>\n",
       "      <td>Chanda</td>\n",
       "      <td>20</td>\n",
       "    </tr>\n",
       "    <tr>\n",
       "      <th>Ashish</th>\n",
       "      <td>100</td>\n",
       "      <td>Sultanpur</td>\n",
       "      <td>11</td>\n",
       "    </tr>\n",
       "  </tbody>\n",
       "</table>\n",
       "</div>"
      ],
      "text/plain": [
       "         marks       city  age\n",
       "name                          \n",
       "Avanish     91    Ayodhya   22\n",
       "Vivek       10  Pratapgar   21\n",
       "Ayush       99     Chanda   20\n",
       "Ashish     100  Sultanpur   11"
      ]
     },
     "execution_count": 73,
     "metadata": {},
     "output_type": "execute_result"
    }
   ],
   "source": [
    "df1"
   ]
  },
  {
   "cell_type": "code",
   "execution_count": 79,
   "metadata": {},
   "outputs": [
    {
     "data": {
      "text/plain": [
       "DatetimeIndex(['2024-08-01', '2024-08-02', '2024-08-05', '2024-08-06'], dtype='datetime64[ns]', freq='B')"
      ]
     },
     "execution_count": 79,
     "metadata": {},
     "output_type": "execute_result"
    }
   ],
   "source": [
    "rng = pd.date_range(start=\"2024-08-01\", periods=4, freq=\"B\")\n",
    "rng"
   ]
  },
  {
   "cell_type": "code",
   "execution_count": 76,
   "metadata": {},
   "outputs": [],
   "source": [
    "df2 = pd.read_csv(\"marks.csv\")"
   ]
  },
  {
   "cell_type": "code",
   "execution_count": 77,
   "metadata": {},
   "outputs": [
    {
     "data": {
      "text/html": [
       "<div>\n",
       "<style scoped>\n",
       "    .dataframe tbody tr th:only-of-type {\n",
       "        vertical-align: middle;\n",
       "    }\n",
       "\n",
       "    .dataframe tbody tr th {\n",
       "        vertical-align: top;\n",
       "    }\n",
       "\n",
       "    .dataframe thead th {\n",
       "        text-align: right;\n",
       "    }\n",
       "</style>\n",
       "<table border=\"1\" class=\"dataframe\">\n",
       "  <thead>\n",
       "    <tr style=\"text-align: right;\">\n",
       "      <th></th>\n",
       "      <th>name</th>\n",
       "      <th>marks</th>\n",
       "      <th>city</th>\n",
       "      <th>age</th>\n",
       "    </tr>\n",
       "  </thead>\n",
       "  <tbody>\n",
       "    <tr>\n",
       "      <th>0</th>\n",
       "      <td>Avanish</td>\n",
       "      <td>91</td>\n",
       "      <td>Ayodhya</td>\n",
       "      <td>22</td>\n",
       "    </tr>\n",
       "    <tr>\n",
       "      <th>1</th>\n",
       "      <td>Vivek</td>\n",
       "      <td>89</td>\n",
       "      <td>Pratapgar</td>\n",
       "      <td>21</td>\n",
       "    </tr>\n",
       "    <tr>\n",
       "      <th>2</th>\n",
       "      <td>Ayush</td>\n",
       "      <td>99</td>\n",
       "      <td>Chanda</td>\n",
       "      <td>20</td>\n",
       "    </tr>\n",
       "    <tr>\n",
       "      <th>3</th>\n",
       "      <td>Ashish</td>\n",
       "      <td>100</td>\n",
       "      <td>Sultanpur</td>\n",
       "      <td>11</td>\n",
       "    </tr>\n",
       "  </tbody>\n",
       "</table>\n",
       "</div>"
      ],
      "text/plain": [
       "      name  marks       city  age\n",
       "0  Avanish     91    Ayodhya   22\n",
       "1    Vivek     89  Pratapgar   21\n",
       "2    Ayush     99     Chanda   20\n",
       "3   Ashish    100  Sultanpur   11"
      ]
     },
     "execution_count": 77,
     "metadata": {},
     "output_type": "execute_result"
    }
   ],
   "source": [
    "df2"
   ]
  },
  {
   "cell_type": "code",
   "execution_count": 80,
   "metadata": {},
   "outputs": [
    {
     "data": {
      "text/html": [
       "<div>\n",
       "<style scoped>\n",
       "    .dataframe tbody tr th:only-of-type {\n",
       "        vertical-align: middle;\n",
       "    }\n",
       "\n",
       "    .dataframe tbody tr th {\n",
       "        vertical-align: top;\n",
       "    }\n",
       "\n",
       "    .dataframe thead th {\n",
       "        text-align: right;\n",
       "    }\n",
       "</style>\n",
       "<table border=\"1\" class=\"dataframe\">\n",
       "  <thead>\n",
       "    <tr style=\"text-align: right;\">\n",
       "      <th></th>\n",
       "      <th>name</th>\n",
       "      <th>marks</th>\n",
       "      <th>city</th>\n",
       "      <th>age</th>\n",
       "    </tr>\n",
       "  </thead>\n",
       "  <tbody>\n",
       "    <tr>\n",
       "      <th>2024-08-01</th>\n",
       "      <td>Avanish</td>\n",
       "      <td>91</td>\n",
       "      <td>Ayodhya</td>\n",
       "      <td>22</td>\n",
       "    </tr>\n",
       "    <tr>\n",
       "      <th>2024-08-02</th>\n",
       "      <td>Vivek</td>\n",
       "      <td>89</td>\n",
       "      <td>Pratapgar</td>\n",
       "      <td>21</td>\n",
       "    </tr>\n",
       "    <tr>\n",
       "      <th>2024-08-05</th>\n",
       "      <td>Ayush</td>\n",
       "      <td>99</td>\n",
       "      <td>Chanda</td>\n",
       "      <td>20</td>\n",
       "    </tr>\n",
       "    <tr>\n",
       "      <th>2024-08-06</th>\n",
       "      <td>Ashish</td>\n",
       "      <td>100</td>\n",
       "      <td>Sultanpur</td>\n",
       "      <td>11</td>\n",
       "    </tr>\n",
       "  </tbody>\n",
       "</table>\n",
       "</div>"
      ],
      "text/plain": [
       "               name  marks       city  age\n",
       "2024-08-01  Avanish     91    Ayodhya   22\n",
       "2024-08-02    Vivek     89  Pratapgar   21\n",
       "2024-08-05    Ayush     99     Chanda   20\n",
       "2024-08-06   Ashish    100  Sultanpur   11"
      ]
     },
     "execution_count": 80,
     "metadata": {},
     "output_type": "execute_result"
    }
   ],
   "source": [
    "df2.set_index(rng)"
   ]
  },
  {
   "cell_type": "code",
   "execution_count": null,
   "metadata": {},
   "outputs": [],
   "source": []
  }
 ],
 "metadata": {
  "kernelspec": {
   "display_name": "pandas-venv",
   "language": "python",
   "name": "python3"
  },
  "language_info": {
   "codemirror_mode": {
    "name": "ipython",
    "version": 3
   },
   "file_extension": ".py",
   "mimetype": "text/x-python",
   "name": "python",
   "nbconvert_exporter": "python",
   "pygments_lexer": "ipython3",
   "version": "3.11.4"
  }
 },
 "nbformat": 4,
 "nbformat_minor": 2
}
