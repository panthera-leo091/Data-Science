{
 "cells": [
  {
   "cell_type": "markdown",
   "metadata": {},
   "source": [
    "***NumPy***"
   ]
  },
  {
   "cell_type": "code",
   "execution_count": 2,
   "metadata": {},
   "outputs": [],
   "source": [
    "import numpy as np"
   ]
  },
  {
   "cell_type": "code",
   "execution_count": 5,
   "metadata": {},
   "outputs": [
    {
     "name": "stdout",
     "output_type": "stream",
     "text": [
      "<class 'list'>   [1, 'jadu', False, 2.1, 'chik damak dam dam'] :\n",
      "\t <class 'int'> 1\n",
      "\t <class 'str'> jadu\n",
      "\t <class 'bool'> False\n",
      "\t <class 'float'> 2.1\n",
      "\t <class 'str'> chik damak dam dam\n"
     ]
    }
   ],
   "source": [
    "# Python list\n",
    "l = [1, \"jadu\", False, 2.1, \"chik damak dam dam\"]\n",
    "print(type(l), \" \", l, \":\")\n",
    "for val in l:\n",
    "    print(\"\\t\", type(val), val)"
   ]
  },
  {
   "cell_type": "code",
   "execution_count": 7,
   "metadata": {},
   "outputs": [
    {
     "data": {
      "text/plain": [
       "array([1, 2, 3, 4, 5])"
      ]
     },
     "execution_count": 7,
     "metadata": {},
     "output_type": "execute_result"
    }
   ],
   "source": [
    "# 1D array Numpy\n",
    "a = np.array([1, 2, 3, 4, 5])\n",
    "a"
   ]
  },
  {
   "cell_type": "code",
   "execution_count": 21,
   "metadata": {},
   "outputs": [
    {
     "data": {
      "text/plain": [
       "array([[ 1,  2,  3,  4,  5],\n",
       "       [ 0,  9,  8,  7,  6],\n",
       "       [11, 22, 34,  4,  5]])"
      ]
     },
     "execution_count": 21,
     "metadata": {},
     "output_type": "execute_result"
    }
   ],
   "source": [
    "# 2D array Numpy\n",
    "b = np.array([[1, 2, 3, 4, 5],\n",
    "              [0, 9, 8, 7, 6],\n",
    "              [11, 22, 34, 4, 5]])\n",
    "b"
   ]
  },
  {
   "cell_type": "code",
   "execution_count": 20,
   "metadata": {},
   "outputs": [
    {
     "data": {
      "text/plain": [
       "array([[[ 1,  2,  3],\n",
       "        [ 4,  5,  6],\n",
       "        [ 7,  8,  9]],\n",
       "\n",
       "       [[11, 22, 33],\n",
       "        [44, 55, 66],\n",
       "        [77, 88, 99]]])"
      ]
     },
     "execution_count": 20,
     "metadata": {},
     "output_type": "execute_result"
    }
   ],
   "source": [
    "# 3D array Numpy\n",
    "c = np.array([[[1, 2, 3], [4, 5, 6], [7, 8, 9]],\n",
    "              [[11, 22, 33], [44, 55, 66], [77, 88, 99]],\n",
    "              ])\n",
    "c"
   ]
  },
  {
   "cell_type": "code",
   "execution_count": 22,
   "metadata": {},
   "outputs": [
    {
     "data": {
      "text/plain": [
       "numpy.ndarray"
      ]
     },
     "execution_count": 22,
     "metadata": {},
     "output_type": "execute_result"
    }
   ],
   "source": [
    "type(a)"
   ]
  },
  {
   "cell_type": "code",
   "execution_count": 12,
   "metadata": {},
   "outputs": [
    {
     "data": {
      "text/plain": [
       "numpy.ndarray"
      ]
     },
     "execution_count": 12,
     "metadata": {},
     "output_type": "execute_result"
    }
   ],
   "source": [
    "type(b)"
   ]
  },
  {
   "cell_type": "code",
   "execution_count": 14,
   "metadata": {},
   "outputs": [
    {
     "data": {
      "text/plain": [
       "5"
      ]
     },
     "execution_count": 14,
     "metadata": {},
     "output_type": "execute_result"
    }
   ],
   "source": [
    "a.size"
   ]
  },
  {
   "cell_type": "code",
   "execution_count": 23,
   "metadata": {},
   "outputs": [
    {
     "data": {
      "text/plain": [
       "15"
      ]
     },
     "execution_count": 23,
     "metadata": {},
     "output_type": "execute_result"
    }
   ],
   "source": [
    "b.size"
   ]
  },
  {
   "cell_type": "code",
   "execution_count": 24,
   "metadata": {},
   "outputs": [
    {
     "data": {
      "text/plain": [
       "18"
      ]
     },
     "execution_count": 24,
     "metadata": {},
     "output_type": "execute_result"
    }
   ],
   "source": [
    "c.size"
   ]
  },
  {
   "cell_type": "code",
   "execution_count": 25,
   "metadata": {},
   "outputs": [
    {
     "data": {
      "text/plain": [
       "(5,)"
      ]
     },
     "execution_count": 25,
     "metadata": {},
     "output_type": "execute_result"
    }
   ],
   "source": [
    "a.shape"
   ]
  },
  {
   "cell_type": "code",
   "execution_count": 26,
   "metadata": {},
   "outputs": [
    {
     "data": {
      "text/plain": [
       "(3, 5)"
      ]
     },
     "execution_count": 26,
     "metadata": {},
     "output_type": "execute_result"
    }
   ],
   "source": [
    "b.shape"
   ]
  },
  {
   "cell_type": "code",
   "execution_count": 27,
   "metadata": {},
   "outputs": [
    {
     "data": {
      "text/plain": [
       "(2, 3, 3)"
      ]
     },
     "execution_count": 27,
     "metadata": {},
     "output_type": "execute_result"
    }
   ],
   "source": [
    "c.shape"
   ]
  },
  {
   "cell_type": "code",
   "execution_count": 28,
   "metadata": {},
   "outputs": [
    {
     "data": {
      "text/plain": [
       "dtype('int64')"
      ]
     },
     "execution_count": 28,
     "metadata": {},
     "output_type": "execute_result"
    }
   ],
   "source": [
    "a.dtype"
   ]
  },
  {
   "cell_type": "code",
   "execution_count": 29,
   "metadata": {},
   "outputs": [
    {
     "data": {
      "text/plain": [
       "dtype('int64')"
      ]
     },
     "execution_count": 29,
     "metadata": {},
     "output_type": "execute_result"
    }
   ],
   "source": [
    "b.dtype"
   ]
  },
  {
   "cell_type": "code",
   "execution_count": 30,
   "metadata": {},
   "outputs": [
    {
     "data": {
      "text/plain": [
       "dtype('int64')"
      ]
     },
     "execution_count": 30,
     "metadata": {},
     "output_type": "execute_result"
    }
   ],
   "source": [
    "c.dtype"
   ]
  },
  {
   "cell_type": "code",
   "execution_count": 34,
   "metadata": {},
   "outputs": [
    {
     "data": {
      "text/plain": [
       "array([[1.1, 2. , 3. ],\n",
       "       [4. , 5. , 5. ]])"
      ]
     },
     "execution_count": 34,
     "metadata": {},
     "output_type": "execute_result"
    }
   ],
   "source": [
    "# if either of val in it is different it will use the type-casting to all\n",
    "d = np.array([[1.1, 2, 3],\n",
    "              [4, 5, 5]])\n",
    "d"
   ]
  },
  {
   "cell_type": "code",
   "execution_count": 35,
   "metadata": {},
   "outputs": [
    {
     "data": {
      "text/plain": [
       "dtype('float64')"
      ]
     },
     "execution_count": 35,
     "metadata": {},
     "output_type": "execute_result"
    }
   ],
   "source": [
    "d.dtype"
   ]
  },
  {
   "cell_type": "markdown",
   "metadata": {},
   "source": [
    "***Transpose***\n",
    "[[1, 2, 3],\n",
    " [4, 5, 6]]\n",
    "\n",
    "(2 * 3)\n",
    "\n",
    "->\n",
    "[[1, 4]\n",
    " [2, 5],\n",
    " [3, 6]]\n",
    "\n",
    "(3 * 2)"
   ]
  },
  {
   "cell_type": "code",
   "execution_count": 44,
   "metadata": {},
   "outputs": [
    {
     "data": {
      "text/plain": [
       "array([[1.1, 4. ],\n",
       "       [2. , 5. ],\n",
       "       [3. , 5. ]])"
      ]
     },
     "execution_count": 44,
     "metadata": {},
     "output_type": "execute_result"
    }
   ],
   "source": [
    "d.transpose()"
   ]
  },
  {
   "cell_type": "code",
   "execution_count": 53,
   "metadata": {},
   "outputs": [
    {
     "data": {
      "text/plain": [
       "array([[      1920137484408,                  62,                   0,\n",
       "                          0],\n",
       "       [  27303364798709760, 4189022085447885435, 8101242554838557216,\n",
       "        3756050687455689076],\n",
       "       [7309475736025312297, 2318265469631359293, 7598827541045470498,\n",
       "        8389772277106830959]])"
      ]
     },
     "execution_count": 53,
     "metadata": {},
     "output_type": "execute_result"
    }
   ],
   "source": [
    "np.empty((3, 4), dtype=int)"
   ]
  },
  {
   "cell_type": "code",
   "execution_count": 54,
   "metadata": {},
   "outputs": [
    {
     "data": {
      "text/plain": [
       "array([1, 1, 1, 1, 1, 1])"
      ]
     },
     "execution_count": 54,
     "metadata": {},
     "output_type": "execute_result"
    }
   ],
   "source": [
    "np.ones(6, int)"
   ]
  },
  {
   "cell_type": "code",
   "execution_count": 55,
   "metadata": {},
   "outputs": [
    {
     "data": {
      "text/plain": [
       "array(['1', '1', '1', '1', '1', '1'], dtype='<U1')"
      ]
     },
     "execution_count": 55,
     "metadata": {},
     "output_type": "execute_result"
    }
   ],
   "source": [
    "np.ones(6, str)"
   ]
  },
  {
   "cell_type": "code",
   "execution_count": 56,
   "metadata": {},
   "outputs": [
    {
     "data": {
      "text/plain": [
       "array([ True,  True,  True,  True,  True,  True])"
      ]
     },
     "execution_count": 56,
     "metadata": {},
     "output_type": "execute_result"
    }
   ],
   "source": [
    "np.ones(6, bool)"
   ]
  },
  {
   "cell_type": "code",
   "execution_count": 57,
   "metadata": {},
   "outputs": [
    {
     "data": {
      "text/plain": [
       "array([[1., 1.],\n",
       "       [1., 1.]])"
      ]
     },
     "execution_count": 57,
     "metadata": {},
     "output_type": "execute_result"
    }
   ],
   "source": [
    "np.ones((2, 2))"
   ]
  },
  {
   "cell_type": "code",
   "execution_count": 59,
   "metadata": {},
   "outputs": [
    {
     "data": {
      "text/plain": [
       "array([[[1., 1.],\n",
       "        [1., 1.]],\n",
       "\n",
       "       [[1., 1.],\n",
       "        [1., 1.]]])"
      ]
     },
     "execution_count": 59,
     "metadata": {},
     "output_type": "execute_result"
    }
   ],
   "source": [
    "np.ones((2, 2, 2))"
   ]
  },
  {
   "cell_type": "code",
   "execution_count": 60,
   "metadata": {},
   "outputs": [
    {
     "data": {
      "text/plain": [
       "array([0., 0., 0., 0., 0., 0.])"
      ]
     },
     "execution_count": 60,
     "metadata": {},
     "output_type": "execute_result"
    }
   ],
   "source": [
    "np.zeros(6)"
   ]
  },
  {
   "cell_type": "code",
   "execution_count": 61,
   "metadata": {},
   "outputs": [
    {
     "data": {
      "text/plain": [
       "array([0, 0, 0, 0, 0, 0])"
      ]
     },
     "execution_count": 61,
     "metadata": {},
     "output_type": "execute_result"
    }
   ],
   "source": [
    "np.zeros(6, int)"
   ]
  },
  {
   "cell_type": "code",
   "execution_count": 62,
   "metadata": {},
   "outputs": [
    {
     "data": {
      "text/plain": [
       "array(['', '', '', '', '', ''], dtype='<U1')"
      ]
     },
     "execution_count": 62,
     "metadata": {},
     "output_type": "execute_result"
    }
   ],
   "source": [
    "np.zeros(6, str)"
   ]
  },
  {
   "cell_type": "code",
   "execution_count": 63,
   "metadata": {},
   "outputs": [
    {
     "data": {
      "text/plain": [
       "array([False, False, False, False, False, False])"
      ]
     },
     "execution_count": 63,
     "metadata": {},
     "output_type": "execute_result"
    }
   ],
   "source": [
    "np.zeros(6, bool)"
   ]
  },
  {
   "cell_type": "code",
   "execution_count": 64,
   "metadata": {},
   "outputs": [
    {
     "data": {
      "text/plain": [
       "array([[0., 0.],\n",
       "       [0., 0.]])"
      ]
     },
     "execution_count": 64,
     "metadata": {},
     "output_type": "execute_result"
    }
   ],
   "source": [
    "np.zeros((2, 2))"
   ]
  },
  {
   "cell_type": "code",
   "execution_count": 65,
   "metadata": {},
   "outputs": [
    {
     "data": {
      "text/plain": [
       "array([[[0., 0., 0., 0.],\n",
       "        [0., 0., 0., 0.]],\n",
       "\n",
       "       [[0., 0., 0., 0.],\n",
       "        [0., 0., 0., 0.]]])"
      ]
     },
     "execution_count": 65,
     "metadata": {},
     "output_type": "execute_result"
    }
   ],
   "source": [
    "np.zeros((2, 2, 4))"
   ]
  },
  {
   "cell_type": "code",
   "execution_count": 66,
   "metadata": {},
   "outputs": [
    {
     "data": {
      "text/plain": [
       "array([ 0,  1,  2,  3,  4,  5,  6,  7,  8,  9, 10, 11, 12, 13, 14, 15, 16,\n",
       "       17, 18, 19])"
      ]
     },
     "execution_count": 66,
     "metadata": {},
     "output_type": "execute_result"
    }
   ],
   "source": [
    "np.arange(20)"
   ]
  },
  {
   "cell_type": "code",
   "execution_count": 68,
   "metadata": {},
   "outputs": [
    {
     "data": {
      "text/plain": [
       "array([ 1,  2,  3,  4,  5,  6,  7,  8,  9, 10, 11, 12, 13, 14, 15, 16, 17,\n",
       "       18, 19])"
      ]
     },
     "execution_count": 68,
     "metadata": {},
     "output_type": "execute_result"
    }
   ],
   "source": [
    "np.arange(1, 20)"
   ]
  },
  {
   "cell_type": "code",
   "execution_count": 70,
   "metadata": {},
   "outputs": [
    {
     "data": {
      "text/plain": [
       "array([ 2,  4,  6,  8, 10, 12, 14, 16, 18, 20])"
      ]
     },
     "execution_count": 70,
     "metadata": {},
     "output_type": "execute_result"
    }
   ],
   "source": [
    "np.arange(2, 21, 2)"
   ]
  },
  {
   "cell_type": "code",
   "execution_count": 71,
   "metadata": {},
   "outputs": [
    {
     "data": {
      "text/plain": [
       "array([ 1,  3,  5,  7,  9, 11, 13, 15, 17, 19])"
      ]
     },
     "execution_count": 71,
     "metadata": {},
     "output_type": "execute_result"
    }
   ],
   "source": [
    "np.arange(1, 20, 2)"
   ]
  },
  {
   "cell_type": "code",
   "execution_count": 72,
   "metadata": {},
   "outputs": [],
   "source": [
    "del a, b, c, d"
   ]
  },
  {
   "cell_type": "code",
   "execution_count": 73,
   "metadata": {},
   "outputs": [],
   "source": [
    "a = np.arange(1, 101, 2)"
   ]
  },
  {
   "cell_type": "code",
   "execution_count": 74,
   "metadata": {},
   "outputs": [
    {
     "data": {
      "text/plain": [
       "array([ 1,  3,  5,  7,  9, 11, 13, 15, 17, 19, 21, 23, 25, 27, 29, 31, 33,\n",
       "       35, 37, 39, 41, 43, 45, 47, 49, 51, 53, 55, 57, 59, 61, 63, 65, 67,\n",
       "       69, 71, 73, 75, 77, 79, 81, 83, 85, 87, 89, 91, 93, 95, 97, 99])"
      ]
     },
     "execution_count": 74,
     "metadata": {},
     "output_type": "execute_result"
    }
   ],
   "source": [
    "a"
   ]
  },
  {
   "cell_type": "code",
   "execution_count": 94,
   "metadata": {},
   "outputs": [
    {
     "data": {
      "text/plain": [
       "array([[ 1,  3,  5,  7,  9],\n",
       "       [11, 13, 15, 17, 19],\n",
       "       [21, 23, 25, 27, 29],\n",
       "       [31, 33, 35, 37, 39],\n",
       "       [41, 43, 45, 47, 49],\n",
       "       [51, 53, 55, 57, 59],\n",
       "       [61, 63, 65, 67, 69],\n",
       "       [71, 73, 75, 77, 79],\n",
       "       [81, 83, 85, 87, 89],\n",
       "       [91, 93, 95, 97, 99]])"
      ]
     },
     "execution_count": 94,
     "metadata": {},
     "output_type": "execute_result"
    }
   ],
   "source": [
    "a = a.reshape(10, 5)\n",
    "a"
   ]
  },
  {
   "cell_type": "code",
   "execution_count": 79,
   "metadata": {},
   "outputs": [],
   "source": [
    "b = np.arange(1, 10)"
   ]
  },
  {
   "cell_type": "code",
   "execution_count": 89,
   "metadata": {},
   "outputs": [
    {
     "data": {
      "text/plain": [
       "array([1, 2, 3, 4, 5, 6, 7, 8, 9])"
      ]
     },
     "execution_count": 89,
     "metadata": {},
     "output_type": "execute_result"
    }
   ],
   "source": [
    "b"
   ]
  },
  {
   "cell_type": "code",
   "execution_count": 91,
   "metadata": {},
   "outputs": [
    {
     "data": {
      "text/plain": [
       "array([[1, 2, 3],\n",
       "       [4, 5, 6],\n",
       "       [7, 8, 9]])"
      ]
     },
     "execution_count": 91,
     "metadata": {},
     "output_type": "execute_result"
    }
   ],
   "source": [
    "b = b.reshape((3, 3))\n",
    "b"
   ]
  },
  {
   "cell_type": "code",
   "execution_count": 92,
   "metadata": {},
   "outputs": [
    {
     "data": {
      "text/plain": [
       "array([1, 2, 3, 4, 5, 6, 7, 8, 9])"
      ]
     },
     "execution_count": 92,
     "metadata": {},
     "output_type": "execute_result"
    }
   ],
   "source": [
    "b.ravel()"
   ]
  },
  {
   "cell_type": "code",
   "execution_count": 93,
   "metadata": {},
   "outputs": [
    {
     "data": {
      "text/plain": [
       "array([[1, 2, 3],\n",
       "       [4, 5, 6],\n",
       "       [7, 8, 9]])"
      ]
     },
     "execution_count": 93,
     "metadata": {},
     "output_type": "execute_result"
    }
   ],
   "source": [
    "b"
   ]
  },
  {
   "cell_type": "code",
   "execution_count": 95,
   "metadata": {},
   "outputs": [
    {
     "data": {
      "text/plain": [
       "array([ 1,  3,  5,  7,  9, 11, 13, 15, 17, 19, 21, 23, 25, 27, 29, 31, 33,\n",
       "       35, 37, 39, 41, 43, 45, 47, 49, 51, 53, 55, 57, 59, 61, 63, 65, 67,\n",
       "       69, 71, 73, 75, 77, 79, 81, 83, 85, 87, 89, 91, 93, 95, 97, 99])"
      ]
     },
     "execution_count": 95,
     "metadata": {},
     "output_type": "execute_result"
    }
   ],
   "source": [
    "a.flatten()"
   ]
  },
  {
   "cell_type": "code",
   "execution_count": 96,
   "metadata": {},
   "outputs": [
    {
     "data": {
      "text/plain": [
       "array([[ 1,  3,  5,  7,  9],\n",
       "       [11, 13, 15, 17, 19],\n",
       "       [21, 23, 25, 27, 29],\n",
       "       [31, 33, 35, 37, 39],\n",
       "       [41, 43, 45, 47, 49],\n",
       "       [51, 53, 55, 57, 59],\n",
       "       [61, 63, 65, 67, 69],\n",
       "       [71, 73, 75, 77, 79],\n",
       "       [81, 83, 85, 87, 89],\n",
       "       [91, 93, 95, 97, 99]])"
      ]
     },
     "execution_count": 96,
     "metadata": {},
     "output_type": "execute_result"
    }
   ],
   "source": [
    "a"
   ]
  },
  {
   "cell_type": "code",
   "execution_count": 97,
   "metadata": {},
   "outputs": [],
   "source": [
    "del a, b"
   ]
  },
  {
   "cell_type": "code",
   "execution_count": 98,
   "metadata": {},
   "outputs": [
    {
     "data": {
      "text/plain": [
       "array([[ 0,  1,  2],\n",
       "       [ 3,  4,  5],\n",
       "       [ 6,  7,  8],\n",
       "       [ 9, 10, 11],\n",
       "       [12, 13, 14],\n",
       "       [15, 16, 17]])"
      ]
     },
     "execution_count": 98,
     "metadata": {},
     "output_type": "execute_result"
    }
   ],
   "source": [
    "arr1 = np.arange(18).reshape(6, 3)\n",
    "arr1"
   ]
  },
  {
   "cell_type": "code",
   "execution_count": 99,
   "metadata": {},
   "outputs": [],
   "source": [
    "arr2 = np.arange(20, 38).reshape((6, 3))"
   ]
  },
  {
   "cell_type": "code",
   "execution_count": 100,
   "metadata": {},
   "outputs": [
    {
     "data": {
      "text/plain": [
       "array([[20, 21, 22],\n",
       "       [23, 24, 25],\n",
       "       [26, 27, 28],\n",
       "       [29, 30, 31],\n",
       "       [32, 33, 34],\n",
       "       [35, 36, 37]])"
      ]
     },
     "execution_count": 100,
     "metadata": {},
     "output_type": "execute_result"
    }
   ],
   "source": [
    "arr2"
   ]
  },
  {
   "cell_type": "code",
   "execution_count": 101,
   "metadata": {},
   "outputs": [
    {
     "data": {
      "text/plain": [
       "array([[ 0,  1,  2],\n",
       "       [ 3,  4,  5],\n",
       "       [ 6,  7,  8],\n",
       "       [ 9, 10, 11],\n",
       "       [12, 13, 14],\n",
       "       [15, 16, 17]])"
      ]
     },
     "execution_count": 101,
     "metadata": {},
     "output_type": "execute_result"
    }
   ],
   "source": [
    "arr1"
   ]
  },
  {
   "cell_type": "code",
   "execution_count": 102,
   "metadata": {},
   "outputs": [
    {
     "data": {
      "text/plain": [
       "18"
      ]
     },
     "execution_count": 102,
     "metadata": {},
     "output_type": "execute_result"
    }
   ],
   "source": [
    "arr1.size"
   ]
  },
  {
   "cell_type": "code",
   "execution_count": 103,
   "metadata": {},
   "outputs": [
    {
     "data": {
      "text/plain": [
       "18"
      ]
     },
     "execution_count": 103,
     "metadata": {},
     "output_type": "execute_result"
    }
   ],
   "source": [
    "arr2.size"
   ]
  },
  {
   "cell_type": "code",
   "execution_count": 105,
   "metadata": {},
   "outputs": [
    {
     "data": {
      "text/plain": [
       "array([[20, 22, 24],\n",
       "       [26, 28, 30],\n",
       "       [32, 34, 36],\n",
       "       [38, 40, 42],\n",
       "       [44, 46, 48],\n",
       "       [50, 52, 54]])"
      ]
     },
     "execution_count": 105,
     "metadata": {},
     "output_type": "execute_result"
    }
   ],
   "source": [
    "arr1 + arr2\n",
    "# for each a(i, j) in arr1 and b(i, j) in arr2 it will add a(i, j) and b(i, j)\n",
    "# where (0 <= i < m) and (0 <= j < n) for [m*n] matrix arr1 and arr2"
   ]
  },
  {
   "cell_type": "code",
   "execution_count": 106,
   "metadata": {},
   "outputs": [
    {
     "data": {
      "text/plain": [
       "array([[-20, -20, -20],\n",
       "       [-20, -20, -20],\n",
       "       [-20, -20, -20],\n",
       "       [-20, -20, -20],\n",
       "       [-20, -20, -20],\n",
       "       [-20, -20, -20]])"
      ]
     },
     "execution_count": 106,
     "metadata": {},
     "output_type": "execute_result"
    }
   ],
   "source": [
    "arr1 - arr2\n",
    "# same logic as addition\n"
   ]
  },
  {
   "cell_type": "code",
   "execution_count": 107,
   "metadata": {},
   "outputs": [
    {
     "data": {
      "text/plain": [
       "array([[  0,  21,  44],\n",
       "       [ 69,  96, 125],\n",
       "       [156, 189, 224],\n",
       "       [261, 300, 341],\n",
       "       [384, 429, 476],\n",
       "       [525, 576, 629]])"
      ]
     },
     "execution_count": 107,
     "metadata": {},
     "output_type": "execute_result"
    }
   ],
   "source": [
    "arr1 * arr2\n",
    "# same as addition and substraction\n",
    "# *** Note ***\n",
    "# it not same as matrix multiplication each element are multiplied with the order"
   ]
  },
  {
   "cell_type": "markdown",
   "metadata": {},
   "source": [
    "***Matrix Multiplication***\n",
    "A(m * n) can only be multiplied with B(n * k) if and only if col of A(i.e n) is equal to no of row in B(i.e n)\n",
    "--> A @ B <-- or --> A.dot(B) <--\n",
    "where @ is used as a symbole for matrix multiplication"
   ]
  },
  {
   "cell_type": "code",
   "execution_count": 113,
   "metadata": {},
   "outputs": [],
   "source": [
    "arr2 = arr2.transpose()"
   ]
  },
  {
   "cell_type": "code",
   "execution_count": 110,
   "metadata": {},
   "outputs": [
    {
     "data": {
      "text/plain": [
       "(6, 3)"
      ]
     },
     "execution_count": 110,
     "metadata": {},
     "output_type": "execute_result"
    }
   ],
   "source": [
    "arr1.shape"
   ]
  },
  {
   "cell_type": "code",
   "execution_count": 114,
   "metadata": {},
   "outputs": [
    {
     "data": {
      "text/plain": [
       "(3, 6)"
      ]
     },
     "execution_count": 114,
     "metadata": {},
     "output_type": "execute_result"
    }
   ],
   "source": [
    "arr2.shape"
   ]
  },
  {
   "cell_type": "code",
   "execution_count": 115,
   "metadata": {},
   "outputs": [
    {
     "data": {
      "text/plain": [
       "array([[  65,   74,   83,   92,  101,  110],\n",
       "       [ 254,  290,  326,  362,  398,  434],\n",
       "       [ 443,  506,  569,  632,  695,  758],\n",
       "       [ 632,  722,  812,  902,  992, 1082],\n",
       "       [ 821,  938, 1055, 1172, 1289, 1406],\n",
       "       [1010, 1154, 1298, 1442, 1586, 1730]])"
      ]
     },
     "execution_count": 115,
     "metadata": {},
     "output_type": "execute_result"
    }
   ],
   "source": [
    "arr1 @ arr2"
   ]
  },
  {
   "cell_type": "code",
   "execution_count": 116,
   "metadata": {},
   "outputs": [
    {
     "data": {
      "text/plain": [
       "array([[1395, 1560, 1725],\n",
       "       [1440, 1611, 1782],\n",
       "       [1485, 1662, 1839]])"
      ]
     },
     "execution_count": 116,
     "metadata": {},
     "output_type": "execute_result"
    }
   ],
   "source": [
    "arr2 @ arr1"
   ]
  },
  {
   "cell_type": "code",
   "execution_count": 118,
   "metadata": {},
   "outputs": [
    {
     "data": {
      "text/plain": [
       "array([[1395, 1560, 1725],\n",
       "       [1440, 1611, 1782],\n",
       "       [1485, 1662, 1839]])"
      ]
     },
     "execution_count": 118,
     "metadata": {},
     "output_type": "execute_result"
    }
   ],
   "source": [
    "arr2.dot(arr1)"
   ]
  },
  {
   "cell_type": "code",
   "execution_count": 119,
   "metadata": {},
   "outputs": [
    {
     "data": {
      "text/plain": [
       "array([[  65,   74,   83,   92,  101,  110],\n",
       "       [ 254,  290,  326,  362,  398,  434],\n",
       "       [ 443,  506,  569,  632,  695,  758],\n",
       "       [ 632,  722,  812,  902,  992, 1082],\n",
       "       [ 821,  938, 1055, 1172, 1289, 1406],\n",
       "       [1010, 1154, 1298, 1442, 1586, 1730]])"
      ]
     },
     "execution_count": 119,
     "metadata": {},
     "output_type": "execute_result"
    }
   ],
   "source": [
    "arr1.dot(arr2)"
   ]
  },
  {
   "cell_type": "code",
   "execution_count": 123,
   "metadata": {},
   "outputs": [
    {
     "data": {
      "text/plain": [
       "array([[ 0,  1,  2],\n",
       "       [ 3,  4,  5],\n",
       "       [ 6,  7,  8],\n",
       "       [ 9, 10, 11],\n",
       "       [12, 13, 14],\n",
       "       [15, 16, 17]])"
      ]
     },
     "execution_count": 123,
     "metadata": {},
     "output_type": "execute_result"
    }
   ],
   "source": [
    "arr1"
   ]
  },
  {
   "cell_type": "code",
   "execution_count": 120,
   "metadata": {},
   "outputs": [
    {
     "data": {
      "text/plain": [
       "np.int64(0)"
      ]
     },
     "execution_count": 120,
     "metadata": {},
     "output_type": "execute_result"
    }
   ],
   "source": [
    "arr1.min()"
   ]
  },
  {
   "cell_type": "code",
   "execution_count": 121,
   "metadata": {},
   "outputs": [
    {
     "data": {
      "text/plain": [
       "np.int64(17)"
      ]
     },
     "execution_count": 121,
     "metadata": {},
     "output_type": "execute_result"
    }
   ],
   "source": [
    "arr1.max()"
   ]
  },
  {
   "cell_type": "code",
   "execution_count": 124,
   "metadata": {},
   "outputs": [
    {
     "data": {
      "text/plain": [
       "array([[20, 23, 26, 29, 32, 35],\n",
       "       [21, 24, 27, 30, 33, 36],\n",
       "       [22, 25, 28, 31, 34, 37]])"
      ]
     },
     "execution_count": 124,
     "metadata": {},
     "output_type": "execute_result"
    }
   ],
   "source": [
    "arr2"
   ]
  },
  {
   "cell_type": "code",
   "execution_count": 126,
   "metadata": {},
   "outputs": [
    {
     "data": {
      "text/plain": [
       "np.int64(20)"
      ]
     },
     "execution_count": 126,
     "metadata": {},
     "output_type": "execute_result"
    }
   ],
   "source": [
    "arr2.min()"
   ]
  },
  {
   "cell_type": "code",
   "execution_count": 127,
   "metadata": {},
   "outputs": [
    {
     "data": {
      "text/plain": [
       "np.int64(37)"
      ]
     },
     "execution_count": 127,
     "metadata": {},
     "output_type": "execute_result"
    }
   ],
   "source": [
    "arr2.max()"
   ]
  },
  {
   "cell_type": "code",
   "execution_count": 129,
   "metadata": {},
   "outputs": [
    {
     "data": {
      "text/plain": [
       "np.int64(17)"
      ]
     },
     "execution_count": 129,
     "metadata": {},
     "output_type": "execute_result"
    }
   ],
   "source": [
    "arr2.argmax() # index of max element"
   ]
  },
  {
   "cell_type": "code",
   "execution_count": 130,
   "metadata": {},
   "outputs": [
    {
     "data": {
      "text/plain": [
       "np.int64(0)"
      ]
     },
     "execution_count": 130,
     "metadata": {},
     "output_type": "execute_result"
    }
   ],
   "source": [
    "arr2.argmin()"
   ]
  },
  {
   "cell_type": "code",
   "execution_count": 131,
   "metadata": {},
   "outputs": [
    {
     "data": {
      "text/plain": [
       "np.int64(513)"
      ]
     },
     "execution_count": 131,
     "metadata": {},
     "output_type": "execute_result"
    }
   ],
   "source": [
    "np.sum(arr2)  # sum of all elements"
   ]
  },
  {
   "cell_type": "code",
   "execution_count": 133,
   "metadata": {},
   "outputs": [
    {
     "data": {
      "text/plain": [
       "array([165, 171, 177])"
      ]
     },
     "execution_count": 133,
     "metadata": {},
     "output_type": "execute_result"
    }
   ],
   "source": [
    "np.sum(arr2, axis=1)  # sum of each row"
   ]
  },
  {
   "cell_type": "code",
   "execution_count": 134,
   "metadata": {},
   "outputs": [
    {
     "data": {
      "text/plain": [
       "array([ 63,  72,  81,  90,  99, 108])"
      ]
     },
     "execution_count": 134,
     "metadata": {},
     "output_type": "execute_result"
    }
   ],
   "source": [
    "np.sum(arr2, axis=0)  # sum of each col"
   ]
  },
  {
   "cell_type": "code",
   "execution_count": 136,
   "metadata": {},
   "outputs": [
    {
     "data": {
      "text/plain": [
       "np.float64(28.5)"
      ]
     },
     "execution_count": 136,
     "metadata": {},
     "output_type": "execute_result"
    }
   ],
   "source": [
    "np.mean(arr2)"
   ]
  },
  {
   "cell_type": "code",
   "execution_count": 137,
   "metadata": {},
   "outputs": [
    {
     "data": {
      "text/plain": [
       "array([[4.47213595, 4.79583152, 5.09901951, 5.38516481, 5.65685425,\n",
       "        5.91607978],\n",
       "       [4.58257569, 4.89897949, 5.19615242, 5.47722558, 5.74456265,\n",
       "        6.        ],\n",
       "       [4.69041576, 5.        , 5.29150262, 5.56776436, 5.83095189,\n",
       "        6.08276253]])"
      ]
     },
     "execution_count": 137,
     "metadata": {},
     "output_type": "execute_result"
    }
   ],
   "source": [
    "np.sqrt(arr2)"
   ]
  },
  {
   "cell_type": "code",
   "execution_count": 138,
   "metadata": {},
   "outputs": [
    {
     "data": {
      "text/plain": [
       "np.float64(5.188127472091127)"
      ]
     },
     "execution_count": 138,
     "metadata": {},
     "output_type": "execute_result"
    }
   ],
   "source": [
    "np.std(arr2)"
   ]
  },
  {
   "cell_type": "code",
   "execution_count": 139,
   "metadata": {},
   "outputs": [
    {
     "data": {
      "text/plain": [
       "array([[2.99573227, 3.13549422, 3.25809654, 3.36729583, 3.4657359 ,\n",
       "        3.55534806],\n",
       "       [3.04452244, 3.17805383, 3.29583687, 3.40119738, 3.49650756,\n",
       "        3.58351894],\n",
       "       [3.09104245, 3.21887582, 3.33220451, 3.4339872 , 3.52636052,\n",
       "        3.61091791]])"
      ]
     },
     "execution_count": 139,
     "metadata": {},
     "output_type": "execute_result"
    }
   ],
   "source": [
    "np.log(arr2)"
   ]
  },
  {
   "cell_type": "code",
   "execution_count": 1,
   "metadata": {},
   "outputs": [],
   "source": [
    "import numpy as np"
   ]
  },
  {
   "cell_type": "code",
   "execution_count": 3,
   "metadata": {},
   "outputs": [],
   "source": [
    "a = np.arange(200, 0, -5)"
   ]
  },
  {
   "cell_type": "code",
   "execution_count": 4,
   "metadata": {},
   "outputs": [
    {
     "data": {
      "text/plain": [
       "array([200, 195, 190, 185, 180, 175, 170, 165, 160, 155, 150, 145, 140,\n",
       "       135, 130, 125, 120, 115, 110, 105, 100,  95,  90,  85,  80,  75,\n",
       "        70,  65,  60,  55,  50,  45,  40,  35,  30,  25,  20,  15,  10,\n",
       "         5])"
      ]
     },
     "execution_count": 4,
     "metadata": {},
     "output_type": "execute_result"
    }
   ],
   "source": [
    "a"
   ]
  },
  {
   "cell_type": "code",
   "execution_count": 5,
   "metadata": {},
   "outputs": [
    {
     "data": {
      "text/plain": [
       "40"
      ]
     },
     "execution_count": 5,
     "metadata": {},
     "output_type": "execute_result"
    }
   ],
   "source": [
    "a.size"
   ]
  },
  {
   "cell_type": "code",
   "execution_count": 9,
   "metadata": {},
   "outputs": [],
   "source": [
    "a = a.reshape(4, 10)"
   ]
  },
  {
   "cell_type": "code",
   "execution_count": 10,
   "metadata": {},
   "outputs": [
    {
     "data": {
      "text/plain": [
       "array([[200, 195, 190, 185, 180, 175, 170, 165, 160, 155],\n",
       "       [150, 145, 140, 135, 130, 125, 120, 115, 110, 105],\n",
       "       [100,  95,  90,  85,  80,  75,  70,  65,  60,  55],\n",
       "       [ 50,  45,  40,  35,  30,  25,  20,  15,  10,   5]])"
      ]
     },
     "execution_count": 10,
     "metadata": {},
     "output_type": "execute_result"
    }
   ],
   "source": [
    "a"
   ]
  },
  {
   "cell_type": "code",
   "execution_count": 1,
   "metadata": {},
   "outputs": [],
   "source": [
    "import matplotlib.pyplot as plt\n",
    "import numpy as np"
   ]
  },
  {
   "cell_type": "code",
   "execution_count": 2,
   "metadata": {},
   "outputs": [
    {
     "data": {
      "text/plain": [
       "3.141592653589793"
      ]
     },
     "execution_count": 2,
     "metadata": {},
     "output_type": "execute_result"
    }
   ],
   "source": [
    "np.pi"
   ]
  },
  {
   "cell_type": "code",
   "execution_count": 3,
   "metadata": {},
   "outputs": [
    {
     "data": {
      "text/plain": [
       "np.float64(1.0)"
      ]
     },
     "execution_count": 3,
     "metadata": {},
     "output_type": "execute_result"
    }
   ],
   "source": [
    "np.sin(np.pi/2)"
   ]
  },
  {
   "cell_type": "code",
   "execution_count": 4,
   "metadata": {},
   "outputs": [
    {
     "data": {
      "text/plain": [
       "np.float64(0.49999999999999994)"
      ]
     },
     "execution_count": 4,
     "metadata": {},
     "output_type": "execute_result"
    }
   ],
   "source": [
    "np.sin(np.pi/6)"
   ]
  },
  {
   "cell_type": "code",
   "execution_count": 7,
   "metadata": {},
   "outputs": [
    {
     "data": {
      "image/png": "[encoded data removed]",
      "text/plain": [
       "<Figure size 640x480 with 1 Axes>"
      ]
     },
     "metadata": {},
     "output_type": "display_data"
    }
   ],
   "source": [
    "plt.style.use(\"dark_background\")\n",
    "plt.plot(np.arange(1, 100), np.arange(1, 100))\n",
    "plt.show()"
   ]
  },
  {
   "cell_type": "code",
   "execution_count": 8,
   "metadata": {},
   "outputs": [
    {
     "data": {
      "text/plain": [
       "np.float64(6.123233995736766e-17)"
      ]
     },
     "execution_count": 8,
     "metadata": {},
     "output_type": "execute_result"
    }
   ],
   "source": [
    "np.cos(np.pi / 2)"
   ]
  },
  {
   "cell_type": "code",
   "execution_count": 16,
   "metadata": {},
   "outputs": [
    {
     "data": {
      "image/png": "[encoded data removed]",
      "text/plain": [
       "<Figure size 640x480 with 1 Axes>"
      ]
     },
     "metadata": {},
     "output_type": "display_data"
    }
   ],
   "source": [
    "x_pi = np.arange(0, 2 * np.pi, .01)\n",
    "y_sin = np.sin(x_pi)\n",
    "plt.title(\"Sin-curve\")\n",
    "# plt.plot(x_sin, y_sin)\n",
    "plt.plot(x_pi, y_sin, label=\"Sin\")\n",
    "plt.xlabel(\"0 to 2 * pi\")\n",
    "plt.ylabel(\"-1 to 1\")\n",
    "plt.legend()\n",
    "plt.show()"
   ]
  },
  {
   "cell_type": "code",
   "execution_count": 17,
   "metadata": {},
   "outputs": [
    {
     "data": {
      "text/plain": [
       "array([0.  , 0.01, 0.02, 0.03, 0.04, 0.05, 0.06, 0.07, 0.08, 0.09, 0.1 ,\n",
       "       0.11, 0.12, 0.13, 0.14, 0.15, 0.16, 0.17, 0.18, 0.19, 0.2 , 0.21,\n",
       "       0.22, 0.23, 0.24, 0.25, 0.26, 0.27, 0.28, 0.29, 0.3 , 0.31, 0.32,\n",
       "       0.33, 0.34, 0.35, 0.36, 0.37, 0.38, 0.39, 0.4 , 0.41, 0.42, 0.43,\n",
       "       0.44, 0.45, 0.46, 0.47, 0.48, 0.49, 0.5 , 0.51, 0.52, 0.53, 0.54,\n",
       "       0.55, 0.56, 0.57, 0.58, 0.59, 0.6 , 0.61, 0.62, 0.63, 0.64, 0.65,\n",
       "       0.66, 0.67, 0.68, 0.69, 0.7 , 0.71, 0.72, 0.73, 0.74, 0.75, 0.76,\n",
       "       0.77, 0.78, 0.79, 0.8 , 0.81, 0.82, 0.83, 0.84, 0.85, 0.86, 0.87,\n",
       "       0.88, 0.89, 0.9 , 0.91, 0.92, 0.93, 0.94, 0.95, 0.96, 0.97, 0.98,\n",
       "       0.99, 1.  , 1.01, 1.02, 1.03, 1.04, 1.05, 1.06, 1.07, 1.08, 1.09,\n",
       "       1.1 , 1.11, 1.12, 1.13, 1.14, 1.15, 1.16, 1.17, 1.18, 1.19, 1.2 ,\n",
       "       1.21, 1.22, 1.23, 1.24, 1.25, 1.26, 1.27, 1.28, 1.29, 1.3 , 1.31,\n",
       "       1.32, 1.33, 1.34, 1.35, 1.36, 1.37, 1.38, 1.39, 1.4 , 1.41, 1.42,\n",
       "       1.43, 1.44, 1.45, 1.46, 1.47, 1.48, 1.49, 1.5 , 1.51, 1.52, 1.53,\n",
       "       1.54, 1.55, 1.56, 1.57, 1.58, 1.59, 1.6 , 1.61, 1.62, 1.63, 1.64,\n",
       "       1.65, 1.66, 1.67, 1.68, 1.69, 1.7 , 1.71, 1.72, 1.73, 1.74, 1.75,\n",
       "       1.76, 1.77, 1.78, 1.79, 1.8 , 1.81, 1.82, 1.83, 1.84, 1.85, 1.86,\n",
       "       1.87, 1.88, 1.89, 1.9 , 1.91, 1.92, 1.93, 1.94, 1.95, 1.96, 1.97,\n",
       "       1.98, 1.99, 2.  , 2.01, 2.02, 2.03, 2.04, 2.05, 2.06, 2.07, 2.08,\n",
       "       2.09, 2.1 , 2.11, 2.12, 2.13, 2.14, 2.15, 2.16, 2.17, 2.18, 2.19,\n",
       "       2.2 , 2.21, 2.22, 2.23, 2.24, 2.25, 2.26, 2.27, 2.28, 2.29, 2.3 ,\n",
       "       2.31, 2.32, 2.33, 2.34, 2.35, 2.36, 2.37, 2.38, 2.39, 2.4 , 2.41,\n",
       "       2.42, 2.43, 2.44, 2.45, 2.46, 2.47, 2.48, 2.49, 2.5 , 2.51, 2.52,\n",
       "       2.53, 2.54, 2.55, 2.56, 2.57, 2.58, 2.59, 2.6 , 2.61, 2.62, 2.63,\n",
       "       2.64, 2.65, 2.66, 2.67, 2.68, 2.69, 2.7 , 2.71, 2.72, 2.73, 2.74,\n",
       "       2.75, 2.76, 2.77, 2.78, 2.79, 2.8 , 2.81, 2.82, 2.83, 2.84, 2.85,\n",
       "       2.86, 2.87, 2.88, 2.89, 2.9 , 2.91, 2.92, 2.93, 2.94, 2.95, 2.96,\n",
       "       2.97, 2.98, 2.99, 3.  , 3.01, 3.02, 3.03, 3.04, 3.05, 3.06, 3.07,\n",
       "       3.08, 3.09, 3.1 , 3.11, 3.12, 3.13, 3.14, 3.15, 3.16, 3.17, 3.18,\n",
       "       3.19, 3.2 , 3.21, 3.22, 3.23, 3.24, 3.25, 3.26, 3.27, 3.28, 3.29,\n",
       "       3.3 , 3.31, 3.32, 3.33, 3.34, 3.35, 3.36, 3.37, 3.38, 3.39, 3.4 ,\n",
       "       3.41, 3.42, 3.43, 3.44, 3.45, 3.46, 3.47, 3.48, 3.49, 3.5 , 3.51,\n",
       "       3.52, 3.53, 3.54, 3.55, 3.56, 3.57, 3.58, 3.59, 3.6 , 3.61, 3.62,\n",
       "       3.63, 3.64, 3.65, 3.66, 3.67, 3.68, 3.69, 3.7 , 3.71, 3.72, 3.73,\n",
       "       3.74, 3.75, 3.76, 3.77, 3.78, 3.79, 3.8 , 3.81, 3.82, 3.83, 3.84,\n",
       "       3.85, 3.86, 3.87, 3.88, 3.89, 3.9 , 3.91, 3.92, 3.93, 3.94, 3.95,\n",
       "       3.96, 3.97, 3.98, 3.99, 4.  , 4.01, 4.02, 4.03, 4.04, 4.05, 4.06,\n",
       "       4.07, 4.08, 4.09, 4.1 , 4.11, 4.12, 4.13, 4.14, 4.15, 4.16, 4.17,\n",
       "       4.18, 4.19, 4.2 , 4.21, 4.22, 4.23, 4.24, 4.25, 4.26, 4.27, 4.28,\n",
       "       4.29, 4.3 , 4.31, 4.32, 4.33, 4.34, 4.35, 4.36, 4.37, 4.38, 4.39,\n",
       "       4.4 , 4.41, 4.42, 4.43, 4.44, 4.45, 4.46, 4.47, 4.48, 4.49, 4.5 ,\n",
       "       4.51, 4.52, 4.53, 4.54, 4.55, 4.56, 4.57, 4.58, 4.59, 4.6 , 4.61,\n",
       "       4.62, 4.63, 4.64, 4.65, 4.66, 4.67, 4.68, 4.69, 4.7 , 4.71, 4.72,\n",
       "       4.73, 4.74, 4.75, 4.76, 4.77, 4.78, 4.79, 4.8 , 4.81, 4.82, 4.83,\n",
       "       4.84, 4.85, 4.86, 4.87, 4.88, 4.89, 4.9 , 4.91, 4.92, 4.93, 4.94,\n",
       "       4.95, 4.96, 4.97, 4.98, 4.99, 5.  , 5.01, 5.02, 5.03, 5.04, 5.05,\n",
       "       5.06, 5.07, 5.08, 5.09, 5.1 , 5.11, 5.12, 5.13, 5.14, 5.15, 5.16,\n",
       "       5.17, 5.18, 5.19, 5.2 , 5.21, 5.22, 5.23, 5.24, 5.25, 5.26, 5.27,\n",
       "       5.28, 5.29, 5.3 , 5.31, 5.32, 5.33, 5.34, 5.35, 5.36, 5.37, 5.38,\n",
       "       5.39, 5.4 , 5.41, 5.42, 5.43, 5.44, 5.45, 5.46, 5.47, 5.48, 5.49,\n",
       "       5.5 , 5.51, 5.52, 5.53, 5.54, 5.55, 5.56, 5.57, 5.58, 5.59, 5.6 ,\n",
       "       5.61, 5.62, 5.63, 5.64, 5.65, 5.66, 5.67, 5.68, 5.69, 5.7 , 5.71,\n",
       "       5.72, 5.73, 5.74, 5.75, 5.76, 5.77, 5.78, 5.79, 5.8 , 5.81, 5.82,\n",
       "       5.83, 5.84, 5.85, 5.86, 5.87, 5.88, 5.89, 5.9 , 5.91, 5.92, 5.93,\n",
       "       5.94, 5.95, 5.96, 5.97, 5.98, 5.99, 6.  , 6.01, 6.02, 6.03, 6.04,\n",
       "       6.05, 6.06, 6.07, 6.08, 6.09, 6.1 , 6.11, 6.12, 6.13, 6.14, 6.15,\n",
       "       6.16, 6.17, 6.18, 6.19, 6.2 , 6.21, 6.22, 6.23, 6.24, 6.25, 6.26,\n",
       "       6.27, 6.28])"
      ]
     },
     "execution_count": 17,
     "metadata": {},
     "output_type": "execute_result"
    }
   ],
   "source": [
    "x_pi"
   ]
  },
  {
   "cell_type": "code",
   "execution_count": 18,
   "metadata": {},
   "outputs": [
    {
     "data": {
      "text/plain": [
       "array([ 1.00000000e+00,  9.99950000e-01,  9.99800007e-01,  9.99550034e-01,\n",
       "        9.99200107e-01,  9.98750260e-01,  9.98200540e-01,  9.97551000e-01,\n",
       "        9.96801706e-01,  9.95952733e-01,  9.95004165e-01,  9.93956098e-01,\n",
       "        9.92808636e-01,  9.91561894e-01,  9.90215996e-01,  9.88771078e-01,\n",
       "        9.87227283e-01,  9.85584767e-01,  9.83843693e-01,  9.82004235e-01,\n",
       "        9.80066578e-01,  9.78030915e-01,  9.75897449e-01,  9.73666395e-01,\n",
       "        9.71337975e-01,  9.68912422e-01,  9.66389978e-01,  9.63770896e-01,\n",
       "        9.61055438e-01,  9.58243876e-01,  9.55336489e-01,  9.52333570e-01,\n",
       "        9.49235418e-01,  9.46042344e-01,  9.42754666e-01,  9.39372713e-01,\n",
       "        9.35896824e-01,  9.32327346e-01,  9.28664636e-01,  9.24909060e-01,\n",
       "        9.21060994e-01,  9.17120823e-01,  9.13088940e-01,  9.08965750e-01,\n",
       "        9.04751663e-01,  9.00447102e-01,  8.96052498e-01,  8.91568288e-01,\n",
       "        8.86994923e-01,  8.82332859e-01,  8.77582562e-01,  8.72744508e-01,\n",
       "        8.67819180e-01,  8.62807071e-01,  8.57708681e-01,  8.52524522e-01,\n",
       "        8.47255111e-01,  8.41900975e-01,  8.36462650e-01,  8.30940679e-01,\n",
       "        8.25335615e-01,  8.19648018e-01,  8.13878457e-01,  8.08027508e-01,\n",
       "        8.02095758e-01,  7.96083799e-01,  7.89992231e-01,  7.83821666e-01,\n",
       "        7.77572719e-01,  7.71246015e-01,  7.64842187e-01,  7.58361876e-01,\n",
       "        7.51805729e-01,  7.45174402e-01,  7.38468559e-01,  7.31688869e-01,\n",
       "        7.24836011e-01,  7.17910670e-01,  7.10913538e-01,  7.03845316e-01,\n",
       "        6.96706709e-01,  6.89498433e-01,  6.82221207e-01,  6.74875760e-01,\n",
       "        6.67462826e-01,  6.59983146e-01,  6.52437468e-01,  6.44826547e-01,\n",
       "        6.37151144e-01,  6.29412027e-01,  6.21609968e-01,  6.13745749e-01,\n",
       "        6.05820157e-01,  5.97833982e-01,  5.89788025e-01,  5.81683089e-01,\n",
       "        5.73519986e-01,  5.65299531e-01,  5.57022547e-01,  5.48689861e-01,\n",
       "        5.40302306e-01,  5.31860721e-01,  5.23365951e-01,  5.14818845e-01,\n",
       "        5.06220257e-01,  4.97571048e-01,  4.88872082e-01,  4.80124229e-01,\n",
       "        4.71328364e-01,  4.62485367e-01,  4.53596121e-01,  4.44661517e-01,\n",
       "        4.35682446e-01,  4.26659808e-01,  4.17594504e-01,  4.08487441e-01,\n",
       "        3.99339529e-01,  3.90151684e-01,  3.80924824e-01,  3.71659872e-01,\n",
       "        3.62357754e-01,  3.53019401e-01,  3.43645746e-01,  3.34237727e-01,\n",
       "        3.24796284e-01,  3.15322362e-01,  3.05816908e-01,  2.96280873e-01,\n",
       "        2.86715210e-01,  2.77120875e-01,  2.67498829e-01,  2.57850033e-01,\n",
       "        2.48175452e-01,  2.38476053e-01,  2.28752808e-01,  2.19006687e-01,\n",
       "        2.09238666e-01,  1.99449721e-01,  1.89640831e-01,  1.79812978e-01,\n",
       "        1.69967143e-01,  1.60104312e-01,  1.50225470e-01,  1.40331606e-01,\n",
       "        1.30423709e-01,  1.20502769e-01,  1.10569780e-01,  1.00625733e-01,\n",
       "        9.06716245e-02,  8.07084485e-02,  7.07372017e-02,  6.07588812e-02,\n",
       "        5.07744849e-02,  4.07850112e-02,  3.07914591e-02,  2.07948278e-02,\n",
       "        1.07961171e-02,  7.96326711e-04, -9.20354327e-03, -1.92024929e-02,\n",
       "       -2.91995223e-02, -3.91936318e-02, -4.91838219e-02, -5.91690937e-02,\n",
       "       -6.91484487e-02, -7.91208888e-02, -8.90854169e-02, -9.90410366e-02,\n",
       "       -1.08986752e-01, -1.18921569e-01, -1.28844494e-01, -1.38754535e-01,\n",
       "       -1.48650700e-01, -1.58532001e-01, -1.68397448e-01, -1.78246056e-01,\n",
       "       -1.88076839e-01, -1.97888815e-01, -2.07681002e-01, -2.17452421e-01,\n",
       "       -2.27202095e-01, -2.36929049e-01, -2.46632310e-01, -2.56310908e-01,\n",
       "       -2.65963876e-01, -2.75590247e-01, -2.85189059e-01, -2.94759353e-01,\n",
       "       -3.04300171e-01, -3.13810559e-01, -3.23289567e-01, -3.32736246e-01,\n",
       "       -3.42149651e-01, -3.51528842e-01, -3.60872880e-01, -3.70180831e-01,\n",
       "       -3.79451765e-01, -3.88684753e-01, -3.97878874e-01, -4.07033207e-01,\n",
       "       -4.16146837e-01, -4.25218852e-01, -4.34248346e-01, -4.43234416e-01,\n",
       "       -4.52176162e-01, -4.61072691e-01, -4.69923114e-01, -4.78726544e-01,\n",
       "       -4.87482102e-01, -4.96188913e-01, -5.04846105e-01, -5.13452812e-01,\n",
       "       -5.22008175e-01, -5.30511338e-01, -5.38961449e-01, -5.47357665e-01,\n",
       "       -5.55699146e-01, -5.63985058e-01, -5.72214571e-01, -5.80386863e-01,\n",
       "       -5.88501117e-01, -5.96556522e-01, -6.04552271e-01, -6.12487566e-01,\n",
       "       -6.20361612e-01, -6.28173623e-01, -6.35922817e-01, -6.43608419e-01,\n",
       "       -6.51229661e-01, -6.58785780e-01, -6.66276021e-01, -6.73699636e-01,\n",
       "       -6.81055881e-01, -6.88344020e-01, -6.95563326e-01, -7.02713077e-01,\n",
       "       -7.09792556e-01, -7.16801057e-01, -7.23737879e-01, -7.30602327e-01,\n",
       "       -7.37393716e-01, -7.44111365e-01, -7.50754605e-01, -7.57322769e-01,\n",
       "       -7.63815202e-01, -7.70231254e-01, -7.76570284e-01, -7.82831657e-01,\n",
       "       -7.89014747e-01, -7.95118937e-01, -8.01143616e-01, -8.07088180e-01,\n",
       "       -8.12952037e-01, -8.18734599e-01, -8.24435289e-01, -8.30053535e-01,\n",
       "       -8.35588777e-01, -8.41040461e-01, -8.46408041e-01, -8.51690981e-01,\n",
       "       -8.56888753e-01, -8.62000837e-01, -8.67026721e-01, -8.71965904e-01,\n",
       "       -8.76817890e-01, -8.81582196e-01, -8.86258344e-01, -8.90845867e-01,\n",
       "       -8.95344306e-01, -8.99753211e-01, -9.04072142e-01, -9.08300666e-01,\n",
       "       -9.12438361e-01, -9.16484813e-01, -9.20439618e-01, -9.24302379e-01,\n",
       "       -9.28072710e-01, -9.31750235e-01, -9.35334586e-01, -9.38825404e-01,\n",
       "       -9.42222341e-01, -9.45525056e-01, -9.48733219e-01, -9.51846510e-01,\n",
       "       -9.54864616e-01, -9.57787238e-01, -9.60614081e-01, -9.63344863e-01,\n",
       "       -9.65979312e-01, -9.68517164e-01, -9.70958165e-01, -9.73302071e-01,\n",
       "       -9.75548648e-01, -9.77697670e-01, -9.79748924e-01, -9.81702203e-01,\n",
       "       -9.83557313e-01, -9.85314068e-01, -9.86972293e-01, -9.88531821e-01,\n",
       "       -9.89992497e-01, -9.91354174e-01, -9.92616717e-01, -9.93779999e-01,\n",
       "       -9.94843903e-01, -9.95808325e-01, -9.96673166e-01, -9.97438340e-01,\n",
       "       -9.98103772e-01, -9.98669394e-01, -9.99135150e-01, -9.99500994e-01,\n",
       "       -9.99766888e-01, -9.99932806e-01, -9.99998732e-01, -9.99964658e-01,\n",
       "       -9.99830590e-01, -9.99596538e-01, -9.99262529e-01, -9.98828593e-01,\n",
       "       -9.98294776e-01, -9.97661130e-01, -9.96927718e-01, -9.96094615e-01,\n",
       "       -9.95161903e-01, -9.94129676e-01, -9.92998037e-01, -9.91767098e-01,\n",
       "       -9.90436984e-01, -9.89007827e-01, -9.87479770e-01, -9.85852966e-01,\n",
       "       -9.84127577e-01, -9.82303776e-01, -9.80381746e-01, -9.78361679e-01,\n",
       "       -9.76243776e-01, -9.74028249e-01, -9.71715321e-01, -9.69305222e-01,\n",
       "       -9.66798193e-01, -9.64194485e-01, -9.61494358e-01, -9.58698083e-01,\n",
       "       -9.55805939e-01, -9.52818215e-01, -9.49735210e-01, -9.46557232e-01,\n",
       "       -9.43284599e-01, -9.39917639e-01, -9.36456687e-01, -9.32902091e-01,\n",
       "       -9.29254205e-01, -9.25513395e-01, -9.21680034e-01, -9.17754506e-01,\n",
       "       -9.13737203e-01, -9.09628527e-01, -9.05428889e-01, -9.01138709e-01,\n",
       "       -8.96758416e-01, -8.92288448e-01, -8.87729252e-01, -8.83081283e-01,\n",
       "       -8.78345007e-01, -8.73520898e-01, -8.68609437e-01, -8.63611115e-01,\n",
       "       -8.58526434e-01, -8.53355900e-01, -8.48100032e-01, -8.42759354e-01,\n",
       "       -8.37334401e-01, -8.31825715e-01, -8.26233848e-01, -8.20559357e-01,\n",
       "       -8.14802812e-01, -8.08964787e-01, -8.03045866e-01, -7.97046641e-01,\n",
       "       -7.90967712e-01, -7.84809687e-01, -7.78573182e-01, -7.72258820e-01,\n",
       "       -7.65867232e-01, -7.59399059e-01, -7.52854947e-01, -7.46235549e-01,\n",
       "       -7.39541529e-01, -7.32773555e-01, -7.25932304e-01, -7.19018461e-01,\n",
       "       -7.12032716e-01, -7.04975769e-01, -6.97848325e-01, -6.90651097e-01,\n",
       "       -6.83384804e-01, -6.76050173e-01, -6.68647937e-01, -6.61178838e-01,\n",
       "       -6.53643621e-01, -6.46043040e-01, -6.38377856e-01, -6.30648834e-01,\n",
       "       -6.22856748e-01, -6.15002377e-01, -6.07086506e-01, -5.99109926e-01,\n",
       "       -5.91073437e-01, -5.82977840e-01, -5.74823947e-01, -5.66612571e-01,\n",
       "       -5.58344534e-01, -5.50020664e-01, -5.41641792e-01, -5.33208756e-01,\n",
       "       -5.24722400e-01, -5.16183572e-01, -5.07593126e-01, -4.98951921e-01,\n",
       "       -4.90260821e-01, -4.81520696e-01, -4.72732419e-01, -4.63896869e-01,\n",
       "       -4.55014930e-01, -4.46087490e-01, -4.37115441e-01, -4.28099682e-01,\n",
       "       -4.19041112e-01, -4.09940639e-01, -4.00799172e-01, -3.91617626e-01,\n",
       "       -3.82396918e-01, -3.73137970e-01, -3.63841710e-01, -3.54509065e-01,\n",
       "       -3.45140970e-01, -3.35738361e-01, -3.26302178e-01, -3.16833366e-01,\n",
       "       -3.07332870e-01, -2.97801641e-01, -2.88240633e-01, -2.78650800e-01,\n",
       "       -2.69033103e-01, -2.59388503e-01, -2.49717964e-01, -2.40022453e-01,\n",
       "       -2.30302941e-01, -2.20560398e-01, -2.10795799e-01, -2.01010121e-01,\n",
       "       -1.91204343e-01, -1.81379444e-01, -1.71536407e-01, -1.61676216e-01,\n",
       "       -1.51799858e-01, -1.41908321e-01, -1.32002592e-01, -1.22083664e-01,\n",
       "       -1.12152527e-01, -1.02210175e-01, -9.22576020e-02, -8.22958034e-02,\n",
       "       -7.23257753e-02, -6.23485146e-02, -5.23650192e-02, -4.23762873e-02,\n",
       "       -3.23833178e-02, -2.23871100e-02, -1.23886635e-02, -2.38897811e-03,\n",
       "        7.61094613e-03,  1.76101093e-02,  2.76075115e-02,  3.76021529e-02,\n",
       "        4.75930341e-02,  5.75791561e-02,  6.75595202e-02,  7.75331285e-02,\n",
       "        8.74989834e-02,  9.74560886e-02,  1.07403448e-01,  1.17340068e-01,\n",
       "        1.27264953e-01,  1.37177112e-01,  1.47075554e-01,  1.56959288e-01,\n",
       "        1.66827326e-01,  1.76678681e-01,  1.86512369e-01,  1.96327406e-01,\n",
       "        2.06122811e-01,  2.15897603e-01,  2.25650805e-01,  2.35381443e-01,\n",
       "        2.45088543e-01,  2.54771134e-01,  2.64428248e-01,  2.74058920e-01,\n",
       "        2.83662185e-01,  2.93237085e-01,  3.02782662e-01,  3.12297960e-01,\n",
       "        3.21782029e-01,  3.31233920e-01,  3.40652688e-01,  3.50037391e-01,\n",
       "        3.59387090e-01,  3.68700851e-01,  3.77977743e-01,  3.87216837e-01,\n",
       "        3.96417209e-01,  4.05577940e-01,  4.14698114e-01,  4.23776818e-01,\n",
       "        4.32813144e-01,  4.41806190e-01,  4.50755056e-01,  4.59658846e-01,\n",
       "        4.68516671e-01,  4.77327645e-01,  4.86090886e-01,  4.94805519e-01,\n",
       "        5.03470671e-01,  5.12085477e-01,  5.20649075e-01,  5.29160608e-01,\n",
       "        5.37619226e-01,  5.46024082e-01,  5.54374336e-01,  5.62669153e-01,\n",
       "        5.70907704e-01,  5.79089165e-01,  5.87212717e-01,  5.95277548e-01,\n",
       "        6.03282852e-01,  6.11227828e-01,  6.19111682e-01,  6.26933625e-01,\n",
       "        6.34692876e-01,  6.42388658e-01,  6.50020201e-01,  6.57586743e-01,\n",
       "        6.65087527e-01,  6.72521802e-01,  6.79888826e-01,  6.87187862e-01,\n",
       "        6.94418179e-01,  7.01579055e-01,  7.08669774e-01,  7.15689627e-01,\n",
       "        7.22637911e-01,  7.29513932e-01,  7.36317002e-01,  7.43046441e-01,\n",
       "        7.49701576e-01,  7.56281741e-01,  7.62786279e-01,  7.69214539e-01,\n",
       "        7.75565879e-01,  7.81839662e-01,  7.88035262e-01,  7.94152059e-01,\n",
       "        8.00189441e-01,  8.06146805e-01,  8.12023555e-01,  8.17819104e-01,\n",
       "        8.23532871e-01,  8.29164286e-01,  8.34712785e-01,  8.40177813e-01,\n",
       "        8.45558824e-01,  8.50855281e-01,  8.56066652e-01,  8.61192417e-01,\n",
       "        8.66232064e-01,  8.71185088e-01,  8.76050995e-01,  8.80829297e-01,\n",
       "        8.85519517e-01,  8.90121186e-01,  8.94633843e-01,  8.99057038e-01,\n",
       "        9.03390328e-01,  9.07633279e-01,  9.11785468e-01,  9.15846479e-01,\n",
       "        9.19815906e-01,  9.23693353e-01,  9.27478431e-01,  9.31170762e-01,\n",
       "        9.34769976e-01,  9.38275714e-01,  9.41687626e-01,  9.45005369e-01,\n",
       "        9.48228613e-01,  9.51357035e-01,  9.54390322e-01,  9.57328170e-01,\n",
       "        9.60170287e-01,  9.62916387e-01,  9.65566196e-01,  9.68119450e-01,\n",
       "        9.70575893e-01,  9.72935278e-01,  9.75197371e-01,  9.77361945e-01,\n",
       "        9.79428784e-01,  9.81397681e-01,  9.83268438e-01,  9.85040870e-01,\n",
       "        9.86714799e-01,  9.88290056e-01,  9.89766486e-01,  9.91143940e-01,\n",
       "        9.92422280e-01,  9.93601379e-01,  9.94681118e-01,  9.95661390e-01,\n",
       "        9.96542097e-01,  9.97323151e-01,  9.98004473e-01,  9.98585995e-01,\n",
       "        9.99067660e-01,  9.99449418e-01,  9.99731233e-01,  9.99913075e-01,\n",
       "        9.99994927e-01])"
      ]
     },
     "execution_count": 18,
     "metadata": {},
     "output_type": "execute_result"
    }
   ],
   "source": [
    "y_cos = np.cos(x_pi)\n",
    "y_cos"
   ]
  },
  {
   "cell_type": "code",
   "execution_count": 29,
   "metadata": {},
   "outputs": [
    {
     "data": {
      "image/png": "[encoded data removed]",
      "text/plain": [
       "<Figure size 640x480 with 1 Axes>"
      ]
     },
     "metadata": {},
     "output_type": "display_data"
    }
   ],
   "source": [
    "plt.plot(x_pi, y_cos)\n",
    "plt.xlabel(\"0 to 2 * pi\")\n",
    "plt.ylabel(\"-1 to 1\")\n",
    "plt.show()"
   ]
  },
  {
   "cell_type": "code",
   "execution_count": 25,
   "metadata": {},
   "outputs": [
    {
     "data": {
      "text/plain": [
       "array([ 1.        ,  0.15425145,  0.52532199, -0.95241298, -0.44807362,\n",
       "        0.81418097, -0.99608784,  0.69925081, -0.59846007, -0.88387747,\n",
       "        0.36731937,  0.32578131,  0.98438195, -0.02209662,  0.6669156 ,\n",
       "       -0.99119882, -0.28369109])"
      ]
     },
     "execution_count": 25,
     "metadata": {},
     "output_type": "execute_result"
    }
   ],
   "source": [
    "dig = [0, 30, 45, 60, 90, 120, 135, 150, 180, 210, 225, 240, 270, 300, 315, 330, 360]\n",
    "y = np.cos(dig)\n",
    "y"
   ]
  },
  {
   "cell_type": "code",
   "execution_count": 27,
   "metadata": {},
   "outputs": [
    {
     "data": {
      "image/png": "[encoded data removed]",
      "text/plain": [
       "<Figure size 640x480 with 1 Axes>"
      ]
     },
     "metadata": {},
     "output_type": "display_data"
    }
   ],
   "source": [
    "plt.plot(dig, y)\n",
    "plt.xticks(dig)\n",
    "plt.show()"
   ]
  },
  {
   "cell_type": "code",
   "execution_count": 28,
   "metadata": {},
   "outputs": [],
   "source": [
    "del dig, y"
   ]
  },
  {
   "cell_type": "code",
   "execution_count": 30,
   "metadata": {},
   "outputs": [
    {
     "data": {
      "image/png": "[encoded data removed]",
      "text/plain": [
       "<Figure size 640x480 with 1 Axes>"
      ]
     },
     "metadata": {},
     "output_type": "display_data"
    }
   ],
   "source": [
    "y_tan = np.tan(x_pi)\n",
    "plt.plot(x_pi, y_tan)\n",
    "plt.xlabel(\"0 to 2 * pi\")\n",
    "plt.ylabel(\"-1 to 1\")\n",
    "plt.show()"
   ]
  },
  {
   "cell_type": "code",
   "execution_count": 36,
   "metadata": {},
   "outputs": [
    {
     "data": {
      "image/png": "[encoded data removed]",
      "text/plain": [
       "<Figure size 640x480 with 1 Axes>"
      ]
     },
     "metadata": {},
     "output_type": "display_data"
    }
   ],
   "source": [
    "plt.plot(x_pi, y_sin, label = \"Sin\")\n",
    "plt.plot(x_pi, y_cos, label = \"Cos\")\n",
    "# plt.plot(x_pi, y_tan, label = \"Tan\")\n",
    "plt.xlabel(\"0 to 2 * pi\")\n",
    "plt.ylabel(\"-1 to 1\")\n",
    "plt.legend()\n",
    "plt.show()"
   ]
  },
  {
   "cell_type": "code",
   "execution_count": 38,
   "metadata": {},
   "outputs": [
    {
     "name": "stderr",
     "output_type": "stream",
     "text": [
      "C:\\Users\\avara\\AppData\\Local\\Temp\\ipykernel_4736\\732908618.py:1: RuntimeWarning: divide by zero encountered in divide\n",
      "  y_cot = 1 / np.tan(x_pi)\n"
     ]
    },
    {
     "data": {
      "image/png": "[encoded data removed]",
      "text/plain": [
       "<Figure size 640x480 with 1 Axes>"
      ]
     },
     "metadata": {},
     "output_type": "display_data"
    }
   ],
   "source": [
    "y_cot = 1 / np.tan(x_pi)\n",
    "plt.plot(x_pi, y_cot)\n",
    "plt.xlabel(\"0 to 2 * pi\")\n",
    "plt.ylabel(\"-1 to 1\")\n",
    "plt.show()"
   ]
  },
  {
   "cell_type": "code",
   "execution_count": 40,
   "metadata": {},
   "outputs": [
    {
     "data": {
      "image/png": "[encoded data removed]",
      "text/plain": [
       "<Figure size 640x480 with 1 Axes>"
      ]
     },
     "metadata": {},
     "output_type": "display_data"
    }
   ],
   "source": [
    "plt.plot(x_pi, y_tan, label = \"tan\")\n",
    "plt.plot(x_pi, y_cot, label = \"cot\")\n",
    "plt.xlabel(\"0 to 2 * pi\")\n",
    "plt.ylabel(\"-1 to 1\")\n",
    "plt.legend()\n",
    "plt.show()"
   ]
  },
  {
   "cell_type": "code",
   "execution_count": 42,
   "metadata": {},
   "outputs": [
    {
     "data": {
      "image/png": "[encoded data removed]",
      "text/plain": [
       "<Figure size 700x700 with 4 Axes>"
      ]
     },
     "metadata": {},
     "output_type": "display_data"
    }
   ],
   "source": [
    "plt.figure(figsize=(7, 7))\n",
    "plt.subplot(2, 2, 1)\n",
    "plt.title(\"sin\")\n",
    "plt.plot(x_pi, y_sin, \"r-\")\n",
    "plt.subplot(2, 2, 2)\n",
    "plt.title(\"cos\")\n",
    "plt.plot(x_pi, y_cos, \"g-\")\n",
    "plt.subplot(2, 2, 3)\n",
    "plt.title(\"tan\")\n",
    "plt.plot(x_pi, y_tan, \"y-\")\n",
    "plt.subplot(2, 2, 4)\n",
    "plt.title(\"cot\")\n",
    "plt.plot(x_pi, y_cot, \"w-\")\n",
    "plt.show()"
   ]
  },
  {
   "cell_type": "markdown",
   "metadata": {},
   "source": [
    "***np.random.random***"
   ]
  },
  {
   "cell_type": "code",
   "execution_count": 43,
   "metadata": {},
   "outputs": [
    {
     "data": {
      "text/plain": [
       "array([0.21281936])"
      ]
     },
     "execution_count": 43,
     "metadata": {},
     "output_type": "execute_result"
    }
   ],
   "source": [
    "np.random.random(1)"
   ]
  },
  {
   "cell_type": "code",
   "execution_count": 44,
   "metadata": {},
   "outputs": [
    {
     "data": {
      "text/plain": [
       "array([0.44902281, 0.53015763, 0.5039116 , 0.96137128, 0.55784109,\n",
       "       0.11150286, 0.44720268, 0.08526389, 0.61050462, 0.77991248])"
      ]
     },
     "execution_count": 44,
     "metadata": {},
     "output_type": "execute_result"
    }
   ],
   "source": [
    "np.random.random(10)"
   ]
  },
  {
   "cell_type": "code",
   "execution_count": 45,
   "metadata": {},
   "outputs": [
    {
     "data": {
      "text/plain": [
       "array([[0.94137407, 0.80910342, 0.98174464],\n",
       "       [0.87200567, 0.40291418, 0.63601314]])"
      ]
     },
     "execution_count": 45,
     "metadata": {},
     "output_type": "execute_result"
    }
   ],
   "source": [
    "np.random.random((2, 3))"
   ]
  },
  {
   "cell_type": "code",
   "execution_count": 46,
   "metadata": {},
   "outputs": [
    {
     "data": {
      "text/plain": [
       "9"
      ]
     },
     "execution_count": 46,
     "metadata": {},
     "output_type": "execute_result"
    }
   ],
   "source": [
    "np.random.randint(1, 10)"
   ]
  },
  {
   "cell_type": "code",
   "execution_count": 49,
   "metadata": {},
   "outputs": [
    {
     "data": {
      "text/plain": [
       "array([4, 6, 5, 8, 4, 5, 7, 5, 8, 7], dtype=int32)"
      ]
     },
     "execution_count": 49,
     "metadata": {},
     "output_type": "execute_result"
    }
   ],
   "source": [
    "np.random.randint(low=1, high=10, size=10)"
   ]
  },
  {
   "cell_type": "code",
   "execution_count": 50,
   "metadata": {},
   "outputs": [
    {
     "data": {
      "text/plain": [
       "array([[6, 4, 7, 3, 2],\n",
       "       [6, 5, 7, 3, 1]], dtype=int32)"
      ]
     },
     "execution_count": 50,
     "metadata": {},
     "output_type": "execute_result"
    }
   ],
   "source": [
    "np.random.randint(1, 10, (2, 5))"
   ]
  },
  {
   "cell_type": "code",
   "execution_count": 51,
   "metadata": {},
   "outputs": [
    {
     "data": {
      "text/plain": [
       "array([[[2, 5, 5, 4, 4],\n",
       "        [7, 4, 7, 2, 9],\n",
       "        [7, 1, 3, 1, 1]],\n",
       "\n",
       "       [[6, 8, 8, 3, 8],\n",
       "        [9, 6, 7, 1, 1],\n",
       "        [3, 6, 3, 9, 2]]], dtype=int32)"
      ]
     },
     "execution_count": 51,
     "metadata": {},
     "output_type": "execute_result"
    }
   ],
   "source": [
    "np.random.randint(1, 10, (2, 3, 5))"
   ]
  },
  {
   "cell_type": "code",
   "execution_count": 52,
   "metadata": {},
   "outputs": [
    {
     "data": {
      "text/plain": [
       "array([0.51314361])"
      ]
     },
     "execution_count": 52,
     "metadata": {},
     "output_type": "execute_result"
    }
   ],
   "source": [
    "np.random.rand(1)"
   ]
  },
  {
   "cell_type": "code",
   "execution_count": 54,
   "metadata": {},
   "outputs": [
    {
     "data": {
      "text/plain": [
       "array([[0.16132808, 0.15229139],\n",
       "       [0.88670658, 0.48898904]])"
      ]
     },
     "execution_count": 54,
     "metadata": {},
     "output_type": "execute_result"
    }
   ],
   "source": [
    "np.random.rand(2, 2)  # float values"
   ]
  },
  {
   "cell_type": "code",
   "execution_count": 55,
   "metadata": {},
   "outputs": [
    {
     "data": {
      "text/plain": [
       "array([[-0.02066978, -0.3366398 ],\n",
       "       [-0.62700551, -1.28181586]])"
      ]
     },
     "execution_count": 55,
     "metadata": {},
     "output_type": "execute_result"
    }
   ],
   "source": [
    "np.random.randn(2, 2)  # random negative values"
   ]
  },
  {
   "cell_type": "code",
   "execution_count": 58,
   "metadata": {},
   "outputs": [],
   "source": [
    "a = np.arange(1, 11)"
   ]
  },
  {
   "cell_type": "code",
   "execution_count": 59,
   "metadata": {},
   "outputs": [
    {
     "data": {
      "text/plain": [
       "array([ 1,  2,  3,  4,  5,  6,  7,  8,  9, 10])"
      ]
     },
     "execution_count": 59,
     "metadata": {},
     "output_type": "execute_result"
    }
   ],
   "source": [
    "a"
   ]
  },
  {
   "cell_type": "code",
   "execution_count": 60,
   "metadata": {},
   "outputs": [
    {
     "data": {
      "text/plain": [
       "np.int64(9)"
      ]
     },
     "execution_count": 60,
     "metadata": {},
     "output_type": "execute_result"
    }
   ],
   "source": [
    "np.random.choice(a)"
   ]
  },
  {
   "cell_type": "markdown",
   "metadata": {},
   "source": [
    "***Numpy String operations***"
   ]
  },
  {
   "cell_type": "code",
   "execution_count": 61,
   "metadata": {},
   "outputs": [],
   "source": [
    "s1 = \"My name is Avanish Singh\"\n",
    "s2 = \"I'm an Indian\""
   ]
  },
  {
   "cell_type": "code",
   "execution_count": 62,
   "metadata": {},
   "outputs": [
    {
     "data": {
      "text/plain": [
       "'My name is Avanish Singh'"
      ]
     },
     "execution_count": 62,
     "metadata": {},
     "output_type": "execute_result"
    }
   ],
   "source": [
    "s1"
   ]
  },
  {
   "cell_type": "code",
   "execution_count": 63,
   "metadata": {},
   "outputs": [
    {
     "data": {
      "text/plain": [
       "\"I'm an Indian\""
      ]
     },
     "execution_count": 63,
     "metadata": {},
     "output_type": "execute_result"
    }
   ],
   "source": [
    "s2"
   ]
  },
  {
   "cell_type": "code",
   "execution_count": 66,
   "metadata": {},
   "outputs": [
    {
     "data": {
      "text/plain": [
       "\"My name is Avanish Singh. I'm an Indian\""
      ]
     },
     "execution_count": 66,
     "metadata": {},
     "output_type": "execute_result"
    }
   ],
   "source": [
    "s1 + \". \" + s2"
   ]
  },
  {
   "cell_type": "code",
   "execution_count": 71,
   "metadata": {},
   "outputs": [
    {
     "data": {
      "text/plain": [
       "np.str_(\"My name is Avanish SinghI'm an Indian\")"
      ]
     },
     "execution_count": 71,
     "metadata": {},
     "output_type": "execute_result"
    }
   ],
   "source": [
    "np.char.add(s1, s2)"
   ]
  },
  {
   "cell_type": "code",
   "execution_count": 72,
   "metadata": {},
   "outputs": [
    {
     "data": {
      "text/plain": [
       "array('MY NAME IS AVANISH SINGH', dtype='<U24')"
      ]
     },
     "execution_count": 72,
     "metadata": {},
     "output_type": "execute_result"
    }
   ],
   "source": [
    "np.char.upper(s1)"
   ]
  },
  {
   "cell_type": "code",
   "execution_count": 73,
   "metadata": {},
   "outputs": [
    {
     "data": {
      "text/plain": [
       "array(\"i'm an indian\", dtype='<U13')"
      ]
     },
     "execution_count": 73,
     "metadata": {},
     "output_type": "execute_result"
    }
   ],
   "source": [
    "np.char.lower(s2)"
   ]
  },
  {
   "cell_type": "code",
   "execution_count": 74,
   "metadata": {},
   "outputs": [
    {
     "data": {
      "text/plain": [
       "'My name is Avanish Singh'"
      ]
     },
     "execution_count": 74,
     "metadata": {},
     "output_type": "execute_result"
    }
   ],
   "source": [
    "s1"
   ]
  },
  {
   "cell_type": "code",
   "execution_count": 75,
   "metadata": {},
   "outputs": [
    {
     "data": {
      "text/plain": [
       "array(list(['My', 'name', 'is', 'Avanish', 'Singh']), dtype=object)"
      ]
     },
     "execution_count": 75,
     "metadata": {},
     "output_type": "execute_result"
    }
   ],
   "source": [
    "np.char.split(s1)"
   ]
  },
  {
   "cell_type": "code",
   "execution_count": 76,
   "metadata": {},
   "outputs": [],
   "source": [
    "s3 = \"I'm a programmer and love to write codes\\nI work hard to be a Data Scientest\""
   ]
  },
  {
   "cell_type": "code",
   "execution_count": 77,
   "metadata": {},
   "outputs": [
    {
     "data": {
      "text/plain": [
       "\"I'm a programmer and love to write codes\\nI work hard to be a Data Scientest\""
      ]
     },
     "execution_count": 77,
     "metadata": {},
     "output_type": "execute_result"
    }
   ],
   "source": [
    "s3"
   ]
  },
  {
   "cell_type": "code",
   "execution_count": 78,
   "metadata": {},
   "outputs": [
    {
     "name": "stdout",
     "output_type": "stream",
     "text": [
      "I'm a programmer and love to write codes\n",
      "I work hard to be a Data Scientest\n"
     ]
    }
   ],
   "source": [
    "print(s3)"
   ]
  },
  {
   "cell_type": "code",
   "execution_count": 79,
   "metadata": {},
   "outputs": [
    {
     "data": {
      "text/plain": [
       "array(list([\"I'm a programmer and love to write codes\", 'I work hard to be a Data Scientest']),\n",
       "      dtype=object)"
      ]
     },
     "execution_count": 79,
     "metadata": {},
     "output_type": "execute_result"
    }
   ],
   "source": [
    "np.char.splitlines(s3)"
   ]
  },
  {
   "cell_type": "code",
   "execution_count": 81,
   "metadata": {},
   "outputs": [],
   "source": [
    "s3 = np.char.replace(s3, \"Scientest\", \"Scientist\")"
   ]
  },
  {
   "cell_type": "code",
   "execution_count": 82,
   "metadata": {},
   "outputs": [
    {
     "data": {
      "text/plain": [
       "array(\"I'm a programmer and love to write codes\\nI work hard to be a Data Scientist\",\n",
       "      dtype='<U75')"
      ]
     },
     "execution_count": 82,
     "metadata": {},
     "output_type": "execute_result"
    }
   ],
   "source": [
    "s3"
   ]
  },
  {
   "cell_type": "code",
   "execution_count": 84,
   "metadata": {},
   "outputs": [
    {
     "data": {
      "text/plain": [
       "array('*******************Hello World********************', dtype='<U50')"
      ]
     },
     "execution_count": 84,
     "metadata": {},
     "output_type": "execute_result"
    }
   ],
   "source": [
    "np.char.center(\"Hello World\", 50, \"*\")"
   ]
  },
  {
   "cell_type": "code",
   "execution_count": 85,
   "metadata": {},
   "outputs": [
    {
     "name": "stdout",
     "output_type": "stream",
     "text": [
      "*******************Hello World********************\n"
     ]
    }
   ],
   "source": [
    "print(np.char.center(\"Hello World\", 50, \"*\"))"
   ]
  },
  {
   "cell_type": "code",
   "execution_count": null,
   "metadata": {},
   "outputs": [],
   "source": []
  }
 ],
 "metadata": {
  "kernelspec": {
   "display_name": "Python 3",
   "language": "python",
   "name": "python3"
  },
  "language_info": {
   "codemirror_mode": {
    "name": "ipython",
    "version": 3
   },
   "file_extension": ".py",
   "mimetype": "text/x-python",
   "name": "python",
   "nbconvert_exporter": "python",
   "pygments_lexer": "ipython3",
   "version": "3.11.4"
  }
 },
 "nbformat": 4,
 "nbformat_minor": 2
}
